{
 "cells": [
  {
   "cell_type": "code",
   "execution_count": 1,
   "metadata": {},
   "outputs": [],
   "source": [
    "import numpy as np\n",
    "import tensorflow as tf\n",
    "from tensorflow import keras\n",
    "import pandas as pd\n",
    "import matplotlib.pyplot as plt\n",
    "from pylab import *"
   ]
  },
  {
   "cell_type": "code",
   "execution_count": 2,
   "metadata": {},
   "outputs": [
    {
     "data": {
      "text/plain": [
       "(5000, 7)"
      ]
     },
     "execution_count": 2,
     "metadata": {},
     "output_type": "execute_result"
    }
   ],
   "source": [
    "data = np.load(\"labels_ann_5k.npy\")\n",
    "data.shape"
   ]
  },
  {
   "cell_type": "code",
   "execution_count": 3,
   "metadata": {},
   "outputs": [
    {
     "data": {
      "text/plain": [
       "(5000, 128, 128)"
      ]
     },
     "execution_count": 3,
     "metadata": {},
     "output_type": "execute_result"
    }
   ],
   "source": [
    "FROGS = np.load(\"FROG_5k.npy\")\n",
    "FROGS.shape"
   ]
  },
  {
   "cell_type": "code",
   "execution_count": 4,
   "metadata": {},
   "outputs": [],
   "source": [
    "FROGS = FROGS.reshape(5000,-1)"
   ]
  },
  {
   "cell_type": "code",
   "execution_count": 5,
   "metadata": {},
   "outputs": [],
   "source": [
    "a_max = np.max(FROGS)\n",
    "b_min = np.min(FROGS)\n",
    "X_orig = (FROGS - b_min)/(a_max - b_min)\n",
    "X_train = X_orig[:4600, :]\n",
    "X_val = X_orig[4600:, :]"
   ]
  },
  {
   "cell_type": "code",
   "execution_count": 6,
   "metadata": {},
   "outputs": [],
   "source": [
    "Y = np.zeros([5000,7])\n",
    "Y[:,0] = (data[:,0] - 295)/(695-295)\n",
    "Y[:,1] = (data[:,1] - 300)/(1000-300)\n",
    "Y[:,2] = (data[:,2] - 0.6)/(1.5-0.6)\n",
    "Y[:,3] = (data[:,3] - 0.6)/(1.5-0.6)\n",
    "Y[:,4] = (data[:,4] + 0.005)/(0.005 + 0.005)\n",
    "Y[:,5] = (data[:,5] + 0.0005)/(0.0005 + 0.0005)\n",
    "Y[:,6] = (data[:,6] + 1000)/(5000+1000)"
   ]
  },
  {
   "cell_type": "code",
   "execution_count": 7,
   "metadata": {},
   "outputs": [],
   "source": [
    "Y_train = Y[:4600]\n",
    "Y_val = Y[4600:]"
   ]
  },
  {
   "cell_type": "code",
   "execution_count": 8,
   "metadata": {},
   "outputs": [
    {
     "name": "stdout",
     "output_type": "stream",
     "text": [
      "WARNING:tensorflow:From C:\\Users\\Asus\\anaconda3\\envs\\tensorflow\\lib\\site-packages\\tensorflow_core\\python\\ops\\resource_variable_ops.py:1630: calling BaseResourceVariable.__init__ (from tensorflow.python.ops.resource_variable_ops) with constraint is deprecated and will be removed in a future version.\n",
      "Instructions for updating:\n",
      "If using Keras pass *_constraint arguments to layers.\n"
     ]
    }
   ],
   "source": [
    "model = keras.models.load_model(\"ann-v2-0.003lr-1000epochs\")"
   ]
  },
  {
   "cell_type": "code",
   "execution_count": 9,
   "metadata": {},
   "outputs": [
    {
     "name": "stdout",
     "output_type": "stream",
     "text": [
      "400/400 [==============================] - 0s 644us/sample - loss: 0.0295 - acc: 0.5900 - mean_absolute_error: 0.1112\n"
     ]
    },
    {
     "data": {
      "text/plain": [
       "[0.02950566276907921, 0.59, 0.11124821]"
      ]
     },
     "execution_count": 9,
     "metadata": {},
     "output_type": "execute_result"
    }
   ],
   "source": [
    "model.evaluate(X_val, Y_val)"
   ]
  },
  {
   "cell_type": "code",
   "execution_count": 10,
   "metadata": {},
   "outputs": [],
   "source": [
    "def predict_params(trace):\n",
    "    params = model.predict(trace).reshape(7)\n",
    "    t1 = params[0]*(695-295) + 295\n",
    "    t2 = params[1]*(1000-300) + 300\n",
    "    A1 = params[2]*(1.5-0.6) + 0.6\n",
    "    A2 = params[3]*(1.5-0.6) + 0.6\n",
    "    f0 = params[4]*(0.005+0.005) - 0.005\n",
    "    f1 = params[5]*(0.0005+0.0005) - 0.0005\n",
    "    tau1 = params[6]*(5000+1000) - 1000\n",
    "    pred = [t1, t2, A1, A2, f0, f1, tau1]\n",
    "    print(\"T1 =\", t1, \"\\n\", \"T2 =\", t2, \"\\n\", \"A1 =\", A1, \"\\n\", \"A2 =\", A2, \"\\n\", \"F0 =\", f0, \"\\n\", \"F1 =\", f1, \"\\n\", \"Tau1 =\", tau1, \"\\n\")\n",
    "    return pred"
   ]
  },
  {
   "cell_type": "code",
   "execution_count": 11,
   "metadata": {
    "scrolled": true
   },
   "outputs": [
    {
     "name": "stdout",
     "output_type": "stream",
     "text": [
      "T1 = 430.717511177063 \n",
      " T2 = 662.0863497257233 \n",
      " A1 = 0.7342730462551117 \n",
      " A2 = 0.6433055520057678 \n",
      " F0 = -0.0019570860266685487 \n",
      " F1 = -0.0001482958495616913 \n",
      " Tau1 = 1366.718828678131 \n",
      "\n"
     ]
    },
    {
     "data": {
      "text/plain": [
       "[430.717511177063,\n",
       " 662.0863497257233,\n",
       " 0.7342730462551117,\n",
       " 0.6433055520057678,\n",
       " -0.0019570860266685487,\n",
       " -0.0001482958495616913,\n",
       " 1366.718828678131]"
      ]
     },
     "execution_count": 11,
     "metadata": {},
     "output_type": "execute_result"
    }
   ],
   "source": [
    "predict_params(X_val[41].reshape(1,16384))"
   ]
  },
  {
   "cell_type": "code",
   "execution_count": 266,
   "metadata": {},
   "outputs": [],
   "source": [
    "e0 = np.loadtxt('837nm.dat')\t\t#load the reference pulse, pump @836 nm\n",
    "e0 = e0.T\n",
    "e1 = np.sqrt(e0[1])\n",
    "e1_ph = e0[2]\n",
    "e = np.array(e1)*np.exp(-1j*(np.array(e1_ph)))\t\t#reforming E-field\n",
    "\n",
    "original_trace = np.loadtxt('trace/trace10.frg')\t\t#load FROG trace from experiment\n",
    "\n",
    "N = len(e0[0])\t\t#timesteps\n",
    "N_max = np.max(e0[0])\n",
    "N_min = np.min(e0[0])\n",
    "\n",
    "t = e0[0]-N_min\n",
    "T0 = N_max-N_min\t#total time duration\n",
    "dt = T0/(N-1)\n",
    "df = 1.0/T0\t\t#frequency steps\n",
    "TD = N\t\t\t#time delay for FROG-trace generation\n",
    "freq = np.arange(0,1/dt+df,df)*1000"
   ]
  },
  {
   "cell_type": "code",
   "execution_count": 267,
   "metadata": {},
   "outputs": [],
   "source": [
    "## for generation of Gaussian pulses\n",
    "def gaussian_pulse(T,f,A,phase,tau):\n",
    "\tw0 = f*2*np.pi\t\t#central angular frequency of pulse\n",
    "\ttemp = -1j*w0*(t-tau) + 1j*phase\n",
    "\tE = A*np.sqrt(np.exp(-4.0*np.log(2.0)/np.log(np.e)*((t-tau)/T)**2))*np.exp(-temp)\n",
    "\treturn E"
   ]
  },
  {
   "cell_type": "code",
   "execution_count": 268,
   "metadata": {},
   "outputs": [],
   "source": [
    "## calculate cross correlation of two pulses\n",
    "def xcorr(e0,e,td):\t\t#shift one pulse by time delay of 'td'\n",
    "\tE_delay = e*1.0\n",
    "\tif td<=0:\n",
    "\t\tE_delay[0:N+td] = e0[-td:]\n",
    "\t\tE_delay[N+td:] = [0]*(-td)\n",
    "\telse:\n",
    "\t\tE_delay[0:td] = [0]*(td)\n",
    "\t\tE_delay[td:] = e0[0:N-td]\t\n",
    "\treturn  e*E_delay"
   ]
  },
  {
   "cell_type": "code",
   "execution_count": 269,
   "metadata": {},
   "outputs": [],
   "source": [
    "## calculate the differert of trace A and trace B\n",
    "def array_diff(A,B):\n",
    "\tA = A/np.max(A)\n",
    "\tB = B/np.max(B)\n",
    "\treturn np.sum(np.square(A-B))/np.sum(np.square(A))"
   ]
  },
  {
   "cell_type": "code",
   "execution_count": 270,
   "metadata": {},
   "outputs": [],
   "source": [
    "def FROG_generator(e,E,TD):\t\n",
    "\tFROG = np.zeros((TD,N),dtype=float)\n",
    "\tfor td in range(-TD//2,TD//2):\n",
    "\t\tE_corre = xcorr(e,E,td)\n",
    "\t\ttemp0 = np.fft.fftshift(np.fft.fft(E_corre))\n",
    "\t\tFROG[(td+TD//2)-1] = abs(temp0)**2\t\n",
    "\treturn FROG.T"
   ]
  },
  {
   "cell_type": "code",
   "execution_count": 271,
   "metadata": {},
   "outputs": [],
   "source": [
    "## calculate FROG traces with different time delays\n",
    "def FROGs(T1,T2,A1,A2,f0,f1,tau1):\n",
    "    tau2 = tau1-700\n",
    "    phase1 = a2*(t-tau1)**2+a3*(t-tau1)**3\n",
    "    phase2 = a2*(t-tau2)**2+a3*(t-tau2)**3 \n",
    "    E1 = gaussian_pulse(T1,f0,A1,phase1,tau1)\n",
    "    E2 = gaussian_pulse(T2,f1,A2,phase2,tau2)\n",
    "    E = E1+E2\n",
    "    FROG = FROG_generator(e,E,TD)\n",
    "    delta = array_diff(FROG, original_trace)\t\n",
    "    return FROG, delta"
   ]
  },
  {
   "cell_type": "code",
   "execution_count": 272,
   "metadata": {},
   "outputs": [],
   "source": [
    "## plot out FROG trace\n",
    "def FROG_trace_plot(FROG):\n",
    "\tfig,ax = plt.subplots()\n",
    "\tplt.imshow(FROG)\n",
    "\tplt.title(\"FROG trace\")\n",
    "\tplt.grid(True)\n",
    "\tplt.show()"
   ]
  },
  {
   "cell_type": "code",
   "execution_count": 273,
   "metadata": {},
   "outputs": [],
   "source": [
    "a2 = 2.50*10**-6\n",
    "a3 = 3.0*10**-9"
   ]
  },
  {
   "cell_type": "code",
   "execution_count": 274,
   "metadata": {},
   "outputs": [],
   "source": [
    "o_max = np.max(original_trace)\n",
    "o_min = np.min(original_trace)\n",
    "original_FROG = (original_trace - o_min)/(o_max - o_min)"
   ]
  },
  {
   "cell_type": "code",
   "execution_count": 275,
   "metadata": {},
   "outputs": [
    {
     "name": "stdout",
     "output_type": "stream",
     "text": [
      "T1 = 524.4149160385132 \n",
      " T2 = 842.4450755119324 \n",
      " A1 = 1.4678192853927612 \n",
      " A2 = 1.4326715111732482 \n",
      " F0 = 0.0013805562257766723 \n",
      " F1 = -3.0305206775665277e-05 \n",
      " Tau1 = 3474.0447998046875 \n",
      "\n"
     ]
    }
   ],
   "source": [
    "frog_pred = predict_params(original_FROG.reshape(1,16384))"
   ]
  },
  {
   "cell_type": "code",
   "execution_count": 276,
   "metadata": {},
   "outputs": [
    {
     "name": "stdout",
     "output_type": "stream",
     "text": [
      "0.4741168886158781\n"
     ]
    },
    {
     "data": {
      "image/png": "[encoded data removed]",
      "text/plain": [
       "<Figure size 432x288 with 1 Axes>"
      ]
     },
     "metadata": {
      "needs_background": "light"
     },
     "output_type": "display_data"
    }
   ],
   "source": [
    "frog,delta = FROGs(frog_pred[0], frog_pred[1], frog_pred[2], frog_pred[3], frog_pred[4], frog_pred[5], frog_pred[6])\n",
    "print(delta)\n",
    "FROG_trace_plot(frog)"
   ]
  },
  {
   "cell_type": "code",
   "execution_count": null,
   "metadata": {},
   "outputs": [],
   "source": []
  }
 ],
 "metadata": {
  "kernelspec": {
   "display_name": "Python 3",
   "language": "python",
   "name": "python3"
  },
  "language_info": {
   "codemirror_mode": {
    "name": "ipython",
    "version": 3
   },
   "file_extension": ".py",
   "mimetype": "text/x-python",
   "name": "python",
   "nbconvert_exporter": "python",
   "pygments_lexer": "ipython3",
   "version": "3.7.9"
  }
 },
 "nbformat": 4,
 "nbformat_minor": 4
}
