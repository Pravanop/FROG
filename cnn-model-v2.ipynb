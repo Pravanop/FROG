{
 "cells": [
  {
   "cell_type": "code",
   "execution_count": 1,
   "metadata": {},
   "outputs": [],
   "source": [
    "import numpy as np\n",
    "import pandas as pd\n",
    "import tensorflow as tf"
   ]
  },
  {
   "cell_type": "code",
   "execution_count": 2,
   "metadata": {
    "scrolled": true
   },
   "outputs": [
    {
     "data": {
      "text/plain": [
       "(5000, 7)"
      ]
     },
     "execution_count": 2,
     "metadata": {},
     "output_type": "execute_result"
    }
   ],
   "source": [
    "data = pd.read_csv(\"data_cnn.csv\")\n",
    "data.shape"
   ]
  },
  {
   "cell_type": "code",
   "execution_count": 3,
   "metadata": {},
   "outputs": [],
   "source": [
    "FROGS = np.loadtxt(\"FROG.csv\", delimiter = \",\")\n",
    "FROGS = FROGS.reshape(5000, 128, 128, 1)"
   ]
  },
  {
   "cell_type": "code",
   "execution_count": 4,
   "metadata": {},
   "outputs": [],
   "source": [
    "np.random.seed(3)\n",
    "shuffler = np.random.permutation(len(FROGS))\n",
    "\n",
    "X_orig = np.log(FROGS[shuffler])\n",
    "X_orig = np.where(X_orig < -100, 0, X_orig)\n",
    "X_orig = X_orig/np.max(np.abs(X_orig))\n",
    "X_train = X_orig[:4700,:,:]\n",
    "X_test = FROGS[4700:, :, :]"
   ]
  },
  {
   "cell_type": "code",
   "execution_count": 5,
   "metadata": {},
   "outputs": [
    {
     "data": {
      "text/html": [
       "<div>\n",
       "<style scoped>\n",
       "    .dataframe tbody tr th:only-of-type {\n",
       "        vertical-align: middle;\n",
       "    }\n",
       "\n",
       "    .dataframe tbody tr th {\n",
       "        vertical-align: top;\n",
       "    }\n",
       "\n",
       "    .dataframe thead th {\n",
       "        text-align: right;\n",
       "    }\n",
       "</style>\n",
       "<table border=\"1\" class=\"dataframe\">\n",
       "  <thead>\n",
       "    <tr style=\"text-align: right;\">\n",
       "      <th></th>\n",
       "      <th>T1</th>\n",
       "      <th>T2</th>\n",
       "      <th>A1</th>\n",
       "      <th>A2</th>\n",
       "      <th>F0</th>\n",
       "      <th>F1</th>\n",
       "      <th>Tau1</th>\n",
       "    </tr>\n",
       "  </thead>\n",
       "  <tbody>\n",
       "    <tr>\n",
       "      <th>0</th>\n",
       "      <td>0.30</td>\n",
       "      <td>0.98</td>\n",
       "      <td>0.500000</td>\n",
       "      <td>0.600000</td>\n",
       "      <td>0.4</td>\n",
       "      <td>-0.3</td>\n",
       "      <td>0.30</td>\n",
       "    </tr>\n",
       "    <tr>\n",
       "      <th>1</th>\n",
       "      <td>0.98</td>\n",
       "      <td>0.71</td>\n",
       "      <td>0.566667</td>\n",
       "      <td>0.933333</td>\n",
       "      <td>-0.1</td>\n",
       "      <td>0.7</td>\n",
       "      <td>0.96</td>\n",
       "    </tr>\n",
       "    <tr>\n",
       "      <th>2</th>\n",
       "      <td>0.73</td>\n",
       "      <td>0.97</td>\n",
       "      <td>0.500000</td>\n",
       "      <td>0.433333</td>\n",
       "      <td>-0.1</td>\n",
       "      <td>0.7</td>\n",
       "      <td>0.74</td>\n",
       "    </tr>\n",
       "    <tr>\n",
       "      <th>3</th>\n",
       "      <td>0.55</td>\n",
       "      <td>0.40</td>\n",
       "      <td>0.433333</td>\n",
       "      <td>0.866667</td>\n",
       "      <td>-0.5</td>\n",
       "      <td>-1.0</td>\n",
       "      <td>0.24</td>\n",
       "    </tr>\n",
       "    <tr>\n",
       "      <th>4</th>\n",
       "      <td>0.46</td>\n",
       "      <td>0.65</td>\n",
       "      <td>0.933333</td>\n",
       "      <td>0.933333</td>\n",
       "      <td>-0.3</td>\n",
       "      <td>-0.8</td>\n",
       "      <td>0.93</td>\n",
       "    </tr>\n",
       "    <tr>\n",
       "      <th>5</th>\n",
       "      <td>0.92</td>\n",
       "      <td>0.80</td>\n",
       "      <td>0.466667</td>\n",
       "      <td>0.866667</td>\n",
       "      <td>0.6</td>\n",
       "      <td>0.9</td>\n",
       "      <td>0.17</td>\n",
       "    </tr>\n",
       "    <tr>\n",
       "      <th>6</th>\n",
       "      <td>0.44</td>\n",
       "      <td>0.44</td>\n",
       "      <td>0.433333</td>\n",
       "      <td>0.966667</td>\n",
       "      <td>0.8</td>\n",
       "      <td>0.9</td>\n",
       "      <td>0.04</td>\n",
       "    </tr>\n",
       "    <tr>\n",
       "      <th>7</th>\n",
       "      <td>0.38</td>\n",
       "      <td>0.96</td>\n",
       "      <td>0.800000</td>\n",
       "      <td>0.833333</td>\n",
       "      <td>0.6</td>\n",
       "      <td>-0.6</td>\n",
       "      <td>0.02</td>\n",
       "    </tr>\n",
       "    <tr>\n",
       "      <th>8</th>\n",
       "      <td>0.81</td>\n",
       "      <td>0.86</td>\n",
       "      <td>0.633333</td>\n",
       "      <td>0.400000</td>\n",
       "      <td>-0.8</td>\n",
       "      <td>0.1</td>\n",
       "      <td>0.77</td>\n",
       "    </tr>\n",
       "    <tr>\n",
       "      <th>9</th>\n",
       "      <td>0.52</td>\n",
       "      <td>0.34</td>\n",
       "      <td>0.900000</td>\n",
       "      <td>0.966667</td>\n",
       "      <td>0.3</td>\n",
       "      <td>0.9</td>\n",
       "      <td>0.71</td>\n",
       "    </tr>\n",
       "    <tr>\n",
       "      <th>10</th>\n",
       "      <td>0.86</td>\n",
       "      <td>0.95</td>\n",
       "      <td>0.400000</td>\n",
       "      <td>0.400000</td>\n",
       "      <td>-1.0</td>\n",
       "      <td>0.8</td>\n",
       "      <td>0.84</td>\n",
       "    </tr>\n",
       "    <tr>\n",
       "      <th>11</th>\n",
       "      <td>0.32</td>\n",
       "      <td>0.38</td>\n",
       "      <td>0.933333</td>\n",
       "      <td>0.566667</td>\n",
       "      <td>-0.8</td>\n",
       "      <td>-0.2</td>\n",
       "      <td>0.13</td>\n",
       "    </tr>\n",
       "    <tr>\n",
       "      <th>12</th>\n",
       "      <td>0.93</td>\n",
       "      <td>0.89</td>\n",
       "      <td>0.566667</td>\n",
       "      <td>0.633333</td>\n",
       "      <td>0.8</td>\n",
       "      <td>0.3</td>\n",
       "      <td>0.32</td>\n",
       "    </tr>\n",
       "    <tr>\n",
       "      <th>13</th>\n",
       "      <td>0.90</td>\n",
       "      <td>0.32</td>\n",
       "      <td>0.500000</td>\n",
       "      <td>0.633333</td>\n",
       "      <td>0.4</td>\n",
       "      <td>-0.5</td>\n",
       "      <td>-0.15</td>\n",
       "    </tr>\n",
       "    <tr>\n",
       "      <th>14</th>\n",
       "      <td>0.90</td>\n",
       "      <td>0.97</td>\n",
       "      <td>0.600000</td>\n",
       "      <td>0.433333</td>\n",
       "      <td>-0.8</td>\n",
       "      <td>-0.4</td>\n",
       "      <td>0.76</td>\n",
       "    </tr>\n",
       "    <tr>\n",
       "      <th>15</th>\n",
       "      <td>0.87</td>\n",
       "      <td>0.48</td>\n",
       "      <td>0.833333</td>\n",
       "      <td>0.766667</td>\n",
       "      <td>-0.2</td>\n",
       "      <td>0.2</td>\n",
       "      <td>0.28</td>\n",
       "    </tr>\n",
       "    <tr>\n",
       "      <th>16</th>\n",
       "      <td>0.85</td>\n",
       "      <td>0.73</td>\n",
       "      <td>0.633333</td>\n",
       "      <td>0.866667</td>\n",
       "      <td>0.8</td>\n",
       "      <td>-0.6</td>\n",
       "      <td>0.74</td>\n",
       "    </tr>\n",
       "    <tr>\n",
       "      <th>17</th>\n",
       "      <td>0.55</td>\n",
       "      <td>0.77</td>\n",
       "      <td>0.733333</td>\n",
       "      <td>0.866667</td>\n",
       "      <td>-0.2</td>\n",
       "      <td>-0.9</td>\n",
       "      <td>0.37</td>\n",
       "    </tr>\n",
       "    <tr>\n",
       "      <th>18</th>\n",
       "      <td>0.90</td>\n",
       "      <td>0.69</td>\n",
       "      <td>0.833333</td>\n",
       "      <td>0.866667</td>\n",
       "      <td>-0.5</td>\n",
       "      <td>-1.0</td>\n",
       "      <td>0.94</td>\n",
       "    </tr>\n",
       "    <tr>\n",
       "      <th>19</th>\n",
       "      <td>0.47</td>\n",
       "      <td>0.75</td>\n",
       "      <td>0.566667</td>\n",
       "      <td>0.600000</td>\n",
       "      <td>0.3</td>\n",
       "      <td>0.2</td>\n",
       "      <td>0.33</td>\n",
       "    </tr>\n",
       "  </tbody>\n",
       "</table>\n",
       "</div>"
      ],
      "text/plain": [
       "      T1    T2        A1        A2   F0   F1  Tau1\n",
       "0   0.30  0.98  0.500000  0.600000  0.4 -0.3  0.30\n",
       "1   0.98  0.71  0.566667  0.933333 -0.1  0.7  0.96\n",
       "2   0.73  0.97  0.500000  0.433333 -0.1  0.7  0.74\n",
       "3   0.55  0.40  0.433333  0.866667 -0.5 -1.0  0.24\n",
       "4   0.46  0.65  0.933333  0.933333 -0.3 -0.8  0.93\n",
       "5   0.92  0.80  0.466667  0.866667  0.6  0.9  0.17\n",
       "6   0.44  0.44  0.433333  0.966667  0.8  0.9  0.04\n",
       "7   0.38  0.96  0.800000  0.833333  0.6 -0.6  0.02\n",
       "8   0.81  0.86  0.633333  0.400000 -0.8  0.1  0.77\n",
       "9   0.52  0.34  0.900000  0.966667  0.3  0.9  0.71\n",
       "10  0.86  0.95  0.400000  0.400000 -1.0  0.8  0.84\n",
       "11  0.32  0.38  0.933333  0.566667 -0.8 -0.2  0.13\n",
       "12  0.93  0.89  0.566667  0.633333  0.8  0.3  0.32\n",
       "13  0.90  0.32  0.500000  0.633333  0.4 -0.5 -0.15\n",
       "14  0.90  0.97  0.600000  0.433333 -0.8 -0.4  0.76\n",
       "15  0.87  0.48  0.833333  0.766667 -0.2  0.2  0.28\n",
       "16  0.85  0.73  0.633333  0.866667  0.8 -0.6  0.74\n",
       "17  0.55  0.77  0.733333  0.866667 -0.2 -0.9  0.37\n",
       "18  0.90  0.69  0.833333  0.866667 -0.5 -1.0  0.94\n",
       "19  0.47  0.75  0.566667  0.600000  0.3  0.2  0.33"
      ]
     },
     "execution_count": 5,
     "metadata": {},
     "output_type": "execute_result"
    }
   ],
   "source": [
    "y_df = pd.DataFrame(columns=['T1','T2','A1','A2','F0','F1','Tau1'])\n",
    "y_df[\"T1\"] = data[\"T1\"]/1000\n",
    "y_df[\"T2\"] = data[\"T2\"]/1000\n",
    "y_df[\"A1\"] = data[\"A1\"]/1.5\n",
    "y_df[\"A2\"] = data[\"A2\"]/1.5\n",
    "y_df[\"F0\"] = data[\"F0\"]/0.005\n",
    "y_df[\"F1\"] = data[\"F1\"]/0.0005\n",
    "#y_df[\"a2\"] = data[\"a2\"]/5e-6\n",
    "#y_df[\"a3\"] = data[\"a3\"]/5e-9\n",
    "y_df[\"Tau1\"] = data[\"Tau1\"]/5000\n",
    "y_df.head(20)"
   ]
  },
  {
   "cell_type": "code",
   "execution_count": 6,
   "metadata": {},
   "outputs": [],
   "source": [
    "Y = y_df.to_numpy()\n",
    "Y_train = Y[:4700,:]\n",
    "Y_test = Y[4700:,:]"
   ]
  },
  {
   "cell_type": "code",
   "execution_count": 10,
   "metadata": {},
   "outputs": [
    {
     "name": "stdout",
     "output_type": "stream",
     "text": [
      "WARNING:tensorflow:From C:\\Users\\Asus\\anaconda3\\envs\\tensorflow\\lib\\site-packages\\keras\\backend\\tensorflow_backend.py:4070: The name tf.nn.max_pool is deprecated. Please use tf.nn.max_pool2d instead.\n",
      "\n"
     ]
    }
   ],
   "source": [
    "from keras.models import Sequential\n",
    "from keras.layers import Dense, Conv2D, MaxPooling2D, Flatten\n",
    "\n",
    "model = Sequential()\n",
    "model.add(Conv2D(64, kernel_size=3, activation='relu', input_shape=(128,128,1)))\n",
    "model.add(MaxPooling2D((2,2), padding=\"valid\"))\n",
    "model.add(Conv2D(32, kernel_size=3, activation='relu'))\n",
    "model.add(MaxPooling2D((2,2), padding=\"valid\"))\n",
    "model.add(Flatten())\n",
    "model.add(Dense(7))"
   ]
  },
  {
   "cell_type": "code",
   "execution_count": 11,
   "metadata": {},
   "outputs": [
    {
     "name": "stdout",
     "output_type": "stream",
     "text": [
      "Model: \"sequential_2\"\n",
      "_________________________________________________________________\n",
      "Layer (type)                 Output Shape              Param #   \n",
      "=================================================================\n",
      "conv2d_3 (Conv2D)            (None, 126, 126, 64)      640       \n",
      "_________________________________________________________________\n",
      "max_pooling2d_1 (MaxPooling2 (None, 63, 63, 64)        0         \n",
      "_________________________________________________________________\n",
      "conv2d_4 (Conv2D)            (None, 61, 61, 32)        18464     \n",
      "_________________________________________________________________\n",
      "max_pooling2d_2 (MaxPooling2 (None, 30, 30, 32)        0         \n",
      "_________________________________________________________________\n",
      "flatten_2 (Flatten)          (None, 28800)             0         \n",
      "_________________________________________________________________\n",
      "dense_2 (Dense)              (None, 7)                 201607    \n",
      "=================================================================\n",
      "Total params: 220,711\n",
      "Trainable params: 220,711\n",
      "Non-trainable params: 0\n",
      "_________________________________________________________________\n"
     ]
    }
   ],
   "source": [
    "model.summary()"
   ]
  },
  {
   "cell_type": "code",
   "execution_count": 12,
   "metadata": {},
   "outputs": [],
   "source": [
    "model.compile(optimizer=\"adam\", loss=\"mae\", metrics=[\"accuracy\"])"
   ]
  },
  {
   "cell_type": "code",
   "execution_count": null,
   "metadata": {},
   "outputs": [
    {
     "name": "stdout",
     "output_type": "stream",
     "text": [
      "WARNING:tensorflow:From C:\\Users\\Asus\\anaconda3\\envs\\tensorflow\\lib\\site-packages\\keras\\backend\\tensorflow_backend.py:422: The name tf.global_variables is deprecated. Please use tf.compat.v1.global_variables instead.\n",
      "\n",
      "Epoch 1/10\n",
      "4700/4700 [==============================] - 147s 31ms/step - loss: 0.3171 - accuracy: 0.2187\n",
      "Epoch 2/10\n",
      "4700/4700 [==============================] - 141s 30ms/step - loss: 0.2866 - accuracy: 0.2251\n",
      "Epoch 3/10\n",
      "4224/4700 [=========================>....] - ETA: 14s - loss: 0.2865 - accuracy: 0.2318"
     ]
    }
   ],
   "source": [
    "model.fit(X_train, Y_train, epochs=10, batch_size=128)"
   ]
  },
  {
   "cell_type": "markdown",
   "metadata": {},
   "source": [
    "## Additional Functions for making trace plots"
   ]
  },
  {
   "cell_type": "code",
   "execution_count": null,
   "metadata": {},
   "outputs": [],
   "source": [
    "import matplotlib.pylab as plt\n",
    "from pylab import *\n",
    "import sys"
   ]
  },
  {
   "cell_type": "code",
   "execution_count": null,
   "metadata": {},
   "outputs": [],
   "source": [
    "e0 = np.loadtxt('837nm.dat')\t\t#load the reference pulse, pump @836 nm\n",
    "e0 = e0.T\n",
    "e1 = np.sqrt(e0[1])\n",
    "e1_ph = e0[2]\n",
    "e = np.array(e1)*np.exp(-1j*(np.array(e1_ph)))\t\t#reforming E-field\n",
    "\n",
    "original_trace = np.loadtxt('trace/trace1.frg')\t\t#load FROG trace from experiment\n",
    "\n",
    "N = len(e0[0])\t\t#timesteps\n",
    "N_max = np.max(e0[0])\n",
    "N_min = np.min(e0[0])\n",
    "\n",
    "t = e0[0]-N_min\n",
    "T0 = N_max-N_min\t#total time duration\n",
    "dt = T0/(N-1)\n",
    "df = 1.0/T0\t\t#frequency steps\n",
    "TD = N\t\t\t#time delay for FROG-trace generation\n",
    "freq = np.arange(0,1/dt+df,df)*1000"
   ]
  },
  {
   "cell_type": "code",
   "execution_count": null,
   "metadata": {},
   "outputs": [],
   "source": [
    "## for generation of Gaussian pulses\n",
    "def gaussian_pulse(T,f,A,phase,tau):\n",
    "\tw0 = f*2*np.pi\t\t#central angular frequency of pulse\n",
    "\ttemp = -1j*w0*(t-tau) + 1j*phase\n",
    "\tE = A*np.sqrt(np.exp(-4.0*np.log(2.0)/np.log(np.e)*((t-tau)/T)**2))*np.exp(-temp)\n",
    "\treturn E"
   ]
  },
  {
   "cell_type": "code",
   "execution_count": null,
   "metadata": {},
   "outputs": [],
   "source": [
    "## calculate cross correlation of two pulses\n",
    "def xcorr(e0,e,td):\t\t#shift one pulse by time delay of 'td'\n",
    "\tE_delay = e*1.0\n",
    "\tif td<=0:\n",
    "\t\tE_delay[0:N+td] = e0[-td:]\n",
    "\t\tE_delay[N+td:] = [0]*(-td)\n",
    "\telse:\n",
    "\t\tE_delay[0:td] = [0]*(td)\n",
    "\t\tE_delay[td:] = e0[0:N-td]\t\n",
    "\treturn  e*E_delay"
   ]
  },
  {
   "cell_type": "code",
   "execution_count": null,
   "metadata": {},
   "outputs": [],
   "source": [
    "## calculate the differert of trace A and trace B\n",
    "def array_diff(A,B):\n",
    "\tA = A/np.max(A)\n",
    "\tB = B/np.max(B)\n",
    "\treturn np.sum(np.square(A-B))/np.sum(np.square(A))"
   ]
  },
  {
   "cell_type": "code",
   "execution_count": null,
   "metadata": {},
   "outputs": [],
   "source": [
    "def FROG_generator(e,E,TD):\t\n",
    "\tFROG = np.zeros((TD,N),dtype=float)\n",
    "\tfor td in range(-TD//2,TD//2):\n",
    "\t\tE_corre = xcorr(e,E,td)\n",
    "\t\ttemp0 = np.fft.fftshift(np.fft.fft(E_corre))\n",
    "\t\tFROG[(td+TD//2)-1] = abs(temp0)**2\t\n",
    "\treturn FROG.T"
   ]
  },
  {
   "cell_type": "code",
   "execution_count": null,
   "metadata": {},
   "outputs": [],
   "source": [
    "## calculate FROG traces with different time delays\n",
    "def FROGs(T1,T2,A1,A2,f0,f1,tau1):\n",
    "    tau2 = tau1-700\n",
    "    phase1 = a2*(t-tau1)**2+a3*(t-tau1)**3\n",
    "    phase2 = a2*(t-tau2)**2+a3*(t-tau2)**3 \n",
    "    E1 = gaussian_pulse(T1,f0,A1,phase1,tau1)\n",
    "    E2 = gaussian_pulse(T2,f1,A2,phase2,tau2)\n",
    "    E = E1+E2\n",
    "    FROG = FROG_generator(e,E,TD)\n",
    "    delta = array_diff(FROG, original_trace)\t\n",
    "    return FROG, delta"
   ]
  },
  {
   "cell_type": "code",
   "execution_count": null,
   "metadata": {},
   "outputs": [],
   "source": [
    "## plot out FROG trace\n",
    "def FROG_trace_plot(FROG):\n",
    "\tfig,ax = plt.subplots()\n",
    "\tplt.imshow(FROG)\n",
    "\tplt.title(\"FROG trace\")\n",
    "\tplt.grid(True)\n",
    "\tplt.show()"
   ]
  },
  {
   "cell_type": "code",
   "execution_count": null,
   "metadata": {},
   "outputs": [],
   "source": [
    "a2 = 2.50*10**-6\n",
    "a3 = 3.0*10**-9"
   ]
  },
  {
   "cell_type": "markdown",
   "metadata": {},
   "source": [
    "## Prediction Function for model"
   ]
  },
  {
   "cell_type": "code",
   "execution_count": null,
   "metadata": {},
   "outputs": [],
   "source": [
    "def plot_trace(params):\n",
    "    print(params)\n",
    "    (FROG,_) = FROGs(params[0]*1000, params[1]*1000 , params[2]*1.5, params[3]*1.5, params[4]*0.005 , params[5]*0.0005, params[6]*5000)\n",
    "    FROG_trace_plot(FROG)\n",
    "    return FROG"
   ]
  },
  {
   "cell_type": "code",
   "execution_count": null,
   "metadata": {},
   "outputs": [],
   "source": [
    "def predict_trace(trace):\n",
    "    y_pred = model.predict(trace).reshape(7)\n",
    "    print(y_pred)\n",
    "    (FROG,_) = FROGs(y_pred[0]*1000, y_pred[1]*1000 , y_pred[2]*1.5, y_pred[3]*1.5, y_pred[4]*0.005 , y_pred[5]*0.0005, y_pred[6]*5000)\n",
    "    FROG_trace_plot(FROG)\n",
    "    return FROG"
   ]
  },
  {
   "cell_type": "code",
   "execution_count": 87,
   "metadata": {
    "scrolled": true
   },
   "outputs": [
    {
     "name": "stdout",
     "output_type": "stream",
     "text": [
      "[ 6.5195184  1.648932   0.5529225  5.5435095  1.2567935  4.7117543\n",
      " -2.122592 ]\n"
     ]
    },
    {
     "data": {
      "image/png": "[encoded data removed]",
      "text/plain": [
       "<Figure size 432x288 with 1 Axes>"
      ]
     },
     "metadata": {
      "needs_background": "light"
     },
     "output_type": "display_data"
    }
   ],
   "source": [
    "f1 = predict_trace(X_test[0].reshape(1,128,128,1))"
   ]
  },
  {
   "cell_type": "code",
   "execution_count": 88,
   "metadata": {},
   "outputs": [
    {
     "name": "stdout",
     "output_type": "stream",
     "text": [
      "[ 0.77        0.97        0.6         0.86666667 -0.7        -0.6\n",
      "  0.08      ]\n"
     ]
    },
    {
     "data": {
      "image/png": "[encoded data removed]",
      "text/plain": [
       "<Figure size 432x288 with 1 Axes>"
      ]
     },
     "metadata": {
      "needs_background": "light"
     },
     "output_type": "display_data"
    }
   ],
   "source": [
    "f2 = plot_trace(Y_test[0])"
   ]
  },
  {
   "cell_type": "code",
   "execution_count": 89,
   "metadata": {},
   "outputs": [
    {
     "data": {
      "text/plain": [
       "0.9287960210703359"
      ]
     },
     "execution_count": 89,
     "metadata": {},
     "output_type": "execute_result"
    }
   ],
   "source": [
    "array_diff(f1, f2)"
   ]
  },
  {
   "cell_type": "code",
   "execution_count": 90,
   "metadata": {},
   "outputs": [
    {
     "data": {
      "image/png": "[encoded data removed]",
      "text/plain": [
       "<IPython.core.display.Image object>"
      ]
     },
     "execution_count": 90,
     "metadata": {},
     "output_type": "execute_result"
    }
   ],
   "source": [
    "from keras.utils import plot_model\n",
    "\n",
    "plot_model(model, to_file=\"cnn_model_plot.png\", show_shapes=True, show_layer_names=True)"
   ]
  },
  {
   "cell_type": "code",
   "execution_count": null,
   "metadata": {},
   "outputs": [],
   "source": []
  }
 ],
 "metadata": {
  "kernelspec": {
   "display_name": "Python 3",
   "language": "python",
   "name": "python3"
  },
  "language_info": {
   "codemirror_mode": {
    "name": "ipython",
    "version": 3
   },
   "file_extension": ".py",
   "mimetype": "text/x-python",
   "name": "python",
   "nbconvert_exporter": "python",
   "pygments_lexer": "ipython3",
   "version": "3.7.9"
  }
 },
 "nbformat": 4,
 "nbformat_minor": 4
}
