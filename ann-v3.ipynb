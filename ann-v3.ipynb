{
 "cells": [
  {
   "cell_type": "code",
   "execution_count": 1,
   "metadata": {},
   "outputs": [],
   "source": [
    "import numpy as np\n",
    "import tensorflow as tf\n",
    "import pandas as pd\n",
    "import matplotlib.pyplot as plt\n",
    "from pylab import *"
   ]
  },
  {
   "cell_type": "code",
   "execution_count": 2,
   "metadata": {},
   "outputs": [
    {
     "data": {
      "text/plain": [
       "(5000, 9)"
      ]
     },
     "execution_count": 2,
     "metadata": {},
     "output_type": "execute_result"
    }
   ],
   "source": [
    "data = np.load(\"labels_ann_9p_5k.npy\")\n",
    "data.shape"
   ]
  },
  {
   "cell_type": "code",
   "execution_count": 3,
   "metadata": {},
   "outputs": [
    {
     "data": {
      "text/plain": [
       "(5000, 128, 128)"
      ]
     },
     "execution_count": 3,
     "metadata": {},
     "output_type": "execute_result"
    }
   ],
   "source": [
    "FROGS = np.load(\"FROG_9p_5k.npy\")\n",
    "FROGS.shape"
   ]
  },
  {
   "cell_type": "code",
   "execution_count": 4,
   "metadata": {},
   "outputs": [],
   "source": [
    "FROGS = FROGS.reshape(5000,-1)"
   ]
  },
  {
   "cell_type": "code",
   "execution_count": 5,
   "metadata": {},
   "outputs": [],
   "source": [
    "a_max = np.max(FROGS)\n",
    "b_min = np.min(FROGS)\n",
    "X_orig = (FROGS - b_min)/(a_max - b_min)\n",
    "X_train = X_orig[:4600, :]\n",
    "X_val = X_orig[4600:, :]"
   ]
  },
  {
   "cell_type": "code",
   "execution_count": 7,
   "metadata": {},
   "outputs": [
    {
     "data": {
      "text/plain": [
       "<matplotlib.image.AxesImage at 0x21d173cdc08>"
      ]
     },
     "execution_count": 7,
     "metadata": {},
     "output_type": "execute_result"
    },
    {
     "data": {
      "image/png": "[encoded data removed]",
      "text/plain": [
       "<Figure size 432x288 with 1 Axes>"
      ]
     },
     "metadata": {
      "needs_background": "light"
     },
     "output_type": "display_data"
    }
   ],
   "source": [
    "plt.imshow(FROGS[1000].reshape(128,128))"
   ]
  },
  {
   "cell_type": "code",
   "execution_count": 8,
   "metadata": {},
   "outputs": [
    {
     "data": {
      "text/plain": [
       "<matplotlib.image.AxesImage at 0x21d17446208>"
      ]
     },
     "execution_count": 8,
     "metadata": {},
     "output_type": "execute_result"
    },
    {
     "data": {
      "image/png": "[encoded data removed]",
      "text/plain": [
       "<Figure size 432x288 with 1 Axes>"
      ]
     },
     "metadata": {
      "needs_background": "light"
     },
     "output_type": "display_data"
    }
   ],
   "source": [
    "plt.imshow(X_orig[1000].reshape(128,128))"
   ]
  },
  {
   "cell_type": "code",
   "execution_count": 18,
   "metadata": {},
   "outputs": [],
   "source": [
    "Y = np.zeros([5000,9])\n",
    "Y[:,0] = (data[:,0] - 295)/(695-295)\n",
    "Y[:,1] = (data[:,1] - 300)/(1000-300)\n",
    "Y[:,2] = (data[:,2] - 0.6)/(1.5-0.6)\n",
    "Y[:,3] = (data[:,3] - 0.6)/(1.5-0.6)\n",
    "Y[:,4] = (data[:,4] + 4e-6)/(1e-6+4e-6)\n",
    "Y[:,5] = (data[:,5] + 1.45e-9)/(1.5e-9+1.45e-9)\n",
    "Y[:,6] = (data[:,6] + 0.005)/(0.005 + 0.005)\n",
    "Y[:,7] = (data[:,7] + 0.0005)/(0.0005 + 0.0005)\n",
    "Y[:,8] = (data[:,8] + 1000)/(5000+1000)"
   ]
  },
  {
   "cell_type": "code",
   "execution_count": 19,
   "metadata": {},
   "outputs": [],
   "source": [
    "Y_train = Y[:4600]\n",
    "Y_val = Y[4600:]"
   ]
  },
  {
   "cell_type": "code",
   "execution_count": 71,
   "metadata": {},
   "outputs": [],
   "source": [
    "from keras.models import Sequential\n",
    "from keras.layers import Dense, BatchNormalization\n",
    "from keras.regularizers import l2\n",
    "\n",
    "def create_model():\n",
    "    model = Sequential()\n",
    "    model.add(Dense(512, activation = \"relu\", input_shape = (16384,)))\n",
    "    #model.add(BatchNormalization())\n",
    "    model.add(Dense(64, activation = \"relu\"))\n",
    "    #model.add(BatchNormalization())\n",
    "    model.add(Dense(9, activation = \"sigmoid\"))\n",
    "    return model"
   ]
  },
  {
   "cell_type": "code",
   "execution_count": 72,
   "metadata": {},
   "outputs": [],
   "source": [
    "from keras.optimizers import Adam\n",
    "\n",
    "model = create_model()\n",
    "opt = Adam(learning_rate=0.03)\n",
    "model.compile(optimizer = opt, loss = \"mean_squared_error\", metrics = [\"accuracy\", \"mean_absolute_error\"])"
   ]
  },
  {
   "cell_type": "code",
   "execution_count": 73,
   "metadata": {},
   "outputs": [
    {
     "name": "stdout",
     "output_type": "stream",
     "text": [
      "Model: \"sequential_10\"\n",
      "_________________________________________________________________\n",
      "Layer (type)                 Output Shape              Param #   \n",
      "=================================================================\n",
      "dense_24 (Dense)             (None, 512)               8389120   \n",
      "_________________________________________________________________\n",
      "dense_25 (Dense)             (None, 64)                32832     \n",
      "_________________________________________________________________\n",
      "dense_26 (Dense)             (None, 9)                 585       \n",
      "=================================================================\n",
      "Total params: 8,422,537\n",
      "Trainable params: 8,422,537\n",
      "Non-trainable params: 0\n",
      "_________________________________________________________________\n"
     ]
    }
   ],
   "source": [
    "model.summary()"
   ]
  },
  {
   "cell_type": "code",
   "execution_count": 74,
   "metadata": {
    "scrolled": true
   },
   "outputs": [
    {
     "name": "stdout",
     "output_type": "stream",
     "text": [
      "Train on 4600 samples, validate on 400 samples\n",
      "Epoch 1/50\n",
      "4600/4600 [==============================] - 14s 3ms/step - loss: 0.0751 - accuracy: 0.2154 - mean_absolute_error: 0.2269 - val_loss: 0.0635 - val_accuracy: 0.2250 - val_mean_absolute_error: 0.2082\n",
      "Epoch 2/50\n",
      "4600/4600 [==============================] - 14s 3ms/step - loss: 0.0624 - accuracy: 0.2646 - mean_absolute_error: 0.2031 - val_loss: 0.0584 - val_accuracy: 0.3075 - val_mean_absolute_error: 0.1934\n",
      "Epoch 3/50\n",
      "4600/4600 [==============================] - 14s 3ms/step - loss: 0.0579 - accuracy: 0.2922 - mean_absolute_error: 0.1926 - val_loss: 0.0530 - val_accuracy: 0.3125 - val_mean_absolute_error: 0.1836\n",
      "Epoch 4/50\n",
      "4600/4600 [==============================] - 14s 3ms/step - loss: 0.0561 - accuracy: 0.2937 - mean_absolute_error: 0.1884 - val_loss: 0.0531 - val_accuracy: 0.3175 - val_mean_absolute_error: 0.1831\n",
      "Epoch 5/50\n",
      "4600/4600 [==============================] - 13s 3ms/step - loss: 0.0558 - accuracy: 0.3020 - mean_absolute_error: 0.1879 - val_loss: 0.0532 - val_accuracy: 0.3175 - val_mean_absolute_error: 0.1823\n",
      "Epoch 6/50\n",
      "4600/4600 [==============================] - 13s 3ms/step - loss: 0.0552 - accuracy: 0.3087 - mean_absolute_error: 0.1862 - val_loss: 0.0521 - val_accuracy: 0.3150 - val_mean_absolute_error: 0.1799\n",
      "Epoch 7/50\n",
      "4600/4600 [==============================] - 14s 3ms/step - loss: 0.0541 - accuracy: 0.3065 - mean_absolute_error: 0.1843 - val_loss: 0.0535 - val_accuracy: 0.3500 - val_mean_absolute_error: 0.1822\n",
      "Epoch 8/50\n",
      "4600/4600 [==============================] - 14s 3ms/step - loss: 0.0538 - accuracy: 0.3085 - mean_absolute_error: 0.1835 - val_loss: 0.0513 - val_accuracy: 0.3125 - val_mean_absolute_error: 0.1770\n",
      "Epoch 9/50\n",
      "4600/4600 [==============================] - 14s 3ms/step - loss: 0.0529 - accuracy: 0.3130 - mean_absolute_error: 0.1816 - val_loss: 0.0507 - val_accuracy: 0.3225 - val_mean_absolute_error: 0.1777\n",
      "Epoch 10/50\n",
      "4600/4600 [==============================] - 14s 3ms/step - loss: 0.0535 - accuracy: 0.3137 - mean_absolute_error: 0.1828 - val_loss: 0.0508 - val_accuracy: 0.3250 - val_mean_absolute_error: 0.1773\n",
      "Epoch 11/50\n",
      "4600/4600 [==============================] - 14s 3ms/step - loss: 0.0530 - accuracy: 0.3152 - mean_absolute_error: 0.1815 - val_loss: 0.0503 - val_accuracy: 0.3625 - val_mean_absolute_error: 0.1752\n",
      "Epoch 12/50\n",
      "4600/4600 [==============================] - 14s 3ms/step - loss: 0.0530 - accuracy: 0.3178 - mean_absolute_error: 0.1816 - val_loss: 0.0507 - val_accuracy: 0.3475 - val_mean_absolute_error: 0.1760\n",
      "Epoch 13/50\n",
      "4600/4600 [==============================] - 14s 3ms/step - loss: 0.0528 - accuracy: 0.3146 - mean_absolute_error: 0.1813 - val_loss: 0.0525 - val_accuracy: 0.3375 - val_mean_absolute_error: 0.1795\n",
      "Epoch 14/50\n",
      "4600/4600 [==============================] - 14s 3ms/step - loss: 0.0521 - accuracy: 0.3217 - mean_absolute_error: 0.1798 - val_loss: 0.0502 - val_accuracy: 0.3175 - val_mean_absolute_error: 0.1744\n",
      "Epoch 15/50\n",
      "4600/4600 [==============================] - 14s 3ms/step - loss: 0.0517 - accuracy: 0.3220 - mean_absolute_error: 0.1785 - val_loss: 0.0500 - val_accuracy: 0.3500 - val_mean_absolute_error: 0.1753\n",
      "Epoch 16/50\n",
      "4600/4600 [==============================] - 14s 3ms/step - loss: 0.0516 - accuracy: 0.3274 - mean_absolute_error: 0.1786 - val_loss: 0.0504 - val_accuracy: 0.3375 - val_mean_absolute_error: 0.1757\n",
      "Epoch 17/50\n",
      "4600/4600 [==============================] - 14s 3ms/step - loss: 0.0524 - accuracy: 0.3254 - mean_absolute_error: 0.1797 - val_loss: 0.0508 - val_accuracy: 0.3300 - val_mean_absolute_error: 0.1769\n",
      "Epoch 18/50\n",
      "4600/4600 [==============================] - 14s 3ms/step - loss: 0.0516 - accuracy: 0.3215 - mean_absolute_error: 0.1786 - val_loss: 0.0489 - val_accuracy: 0.3425 - val_mean_absolute_error: 0.1723\n",
      "Epoch 19/50\n",
      "4600/4600 [==============================] - 14s 3ms/step - loss: 0.0514 - accuracy: 0.3289 - mean_absolute_error: 0.1776 - val_loss: 0.0504 - val_accuracy: 0.3375 - val_mean_absolute_error: 0.1736\n",
      "Epoch 20/50\n",
      "4600/4600 [==============================] - 14s 3ms/step - loss: 0.0514 - accuracy: 0.3289 - mean_absolute_error: 0.1777 - val_loss: 0.0504 - val_accuracy: 0.3425 - val_mean_absolute_error: 0.1739\n",
      "Epoch 21/50\n",
      "4600/4600 [==============================] - 14s 3ms/step - loss: 0.0516 - accuracy: 0.3307 - mean_absolute_error: 0.1782 - val_loss: 0.0504 - val_accuracy: 0.3400 - val_mean_absolute_error: 0.1756\n",
      "Epoch 22/50\n",
      "4600/4600 [==============================] - 14s 3ms/step - loss: 0.0508 - accuracy: 0.3374 - mean_absolute_error: 0.1766 - val_loss: 0.0493 - val_accuracy: 0.3450 - val_mean_absolute_error: 0.1733\n",
      "Epoch 23/50\n",
      "4600/4600 [==============================] - 14s 3ms/step - loss: 0.0508 - accuracy: 0.3328 - mean_absolute_error: 0.1761 - val_loss: 0.0494 - val_accuracy: 0.3425 - val_mean_absolute_error: 0.1728\n",
      "Epoch 24/50\n",
      "4600/4600 [==============================] - 14s 3ms/step - loss: 0.0510 - accuracy: 0.3352 - mean_absolute_error: 0.1767 - val_loss: 0.0495 - val_accuracy: 0.3450 - val_mean_absolute_error: 0.1750\n",
      "Epoch 25/50\n",
      "4600/4600 [==============================] - 14s 3ms/step - loss: 0.0515 - accuracy: 0.3320 - mean_absolute_error: 0.1779 - val_loss: 0.0485 - val_accuracy: 0.3475 - val_mean_absolute_error: 0.1719\n",
      "Epoch 26/50\n",
      "4600/4600 [==============================] - 14s 3ms/step - loss: 0.0509 - accuracy: 0.3361 - mean_absolute_error: 0.1764 - val_loss: 0.0497 - val_accuracy: 0.3275 - val_mean_absolute_error: 0.1733\n",
      "Epoch 27/50\n",
      "4600/4600 [==============================] - 14s 3ms/step - loss: 0.0512 - accuracy: 0.3309 - mean_absolute_error: 0.1770 - val_loss: 0.0495 - val_accuracy: 0.3350 - val_mean_absolute_error: 0.1720\n",
      "Epoch 28/50\n",
      "4600/4600 [==============================] - 14s 3ms/step - loss: 0.0505 - accuracy: 0.3424 - mean_absolute_error: 0.1754 - val_loss: 0.0483 - val_accuracy: 0.3625 - val_mean_absolute_error: 0.1689\n",
      "Epoch 29/50\n",
      "4600/4600 [==============================] - 14s 3ms/step - loss: 0.0501 - accuracy: 0.3383 - mean_absolute_error: 0.1745 - val_loss: 0.0488 - val_accuracy: 0.3575 - val_mean_absolute_error: 0.1713\n",
      "Epoch 30/50\n",
      "4600/4600 [==============================] - 14s 3ms/step - loss: 0.0509 - accuracy: 0.3263 - mean_absolute_error: 0.1769 - val_loss: 0.0494 - val_accuracy: 0.3375 - val_mean_absolute_error: 0.1731\n",
      "Epoch 31/50\n",
      "4600/4600 [==============================] - 14s 3ms/step - loss: 0.0508 - accuracy: 0.3380 - mean_absolute_error: 0.1761 - val_loss: 0.0498 - val_accuracy: 0.3200 - val_mean_absolute_error: 0.1729\n",
      "Epoch 32/50\n",
      "4600/4600 [==============================] - 14s 3ms/step - loss: 0.0504 - accuracy: 0.3398 - mean_absolute_error: 0.1749 - val_loss: 0.0489 - val_accuracy: 0.3475 - val_mean_absolute_error: 0.1712\n",
      "Epoch 33/50\n",
      "4600/4600 [==============================] - 14s 3ms/step - loss: 0.0501 - accuracy: 0.3407 - mean_absolute_error: 0.1747 - val_loss: 0.0490 - val_accuracy: 0.3375 - val_mean_absolute_error: 0.1727\n",
      "Epoch 34/50\n",
      "4600/4600 [==============================] - 14s 3ms/step - loss: 0.0510 - accuracy: 0.3398 - mean_absolute_error: 0.1760 - val_loss: 0.0502 - val_accuracy: 0.3450 - val_mean_absolute_error: 0.1745\n",
      "Epoch 35/50\n",
      "4600/4600 [==============================] - 14s 3ms/step - loss: 0.0506 - accuracy: 0.3374 - mean_absolute_error: 0.1753 - val_loss: 0.0503 - val_accuracy: 0.3450 - val_mean_absolute_error: 0.1744\n",
      "Epoch 36/50\n",
      "4600/4600 [==============================] - 14s 3ms/step - loss: 0.0505 - accuracy: 0.3391 - mean_absolute_error: 0.1753 - val_loss: 0.0500 - val_accuracy: 0.3250 - val_mean_absolute_error: 0.1733\n",
      "Epoch 37/50\n",
      "4600/4600 [==============================] - 14s 3ms/step - loss: 0.0505 - accuracy: 0.3307 - mean_absolute_error: 0.1753 - val_loss: 0.0491 - val_accuracy: 0.3425 - val_mean_absolute_error: 0.1708\n",
      "Epoch 38/50\n",
      "4600/4600 [==============================] - 14s 3ms/step - loss: 0.0501 - accuracy: 0.3448 - mean_absolute_error: 0.1745 - val_loss: 0.0487 - val_accuracy: 0.3350 - val_mean_absolute_error: 0.1707\n",
      "Epoch 39/50\n"
     ]
    },
    {
     "name": "stdout",
     "output_type": "stream",
     "text": [
      "4600/4600 [==============================] - 14s 3ms/step - loss: 0.0503 - accuracy: 0.3411 - mean_absolute_error: 0.1747 - val_loss: 0.0495 - val_accuracy: 0.3475 - val_mean_absolute_error: 0.1727ss: 0.0505 - ac\n",
      "Epoch 40/50\n",
      "4600/4600 [==============================] - 14s 3ms/step - loss: 0.0498 - accuracy: 0.3400 - mean_absolute_error: 0.1736 - val_loss: 0.0502 - val_accuracy: 0.3250 - val_mean_absolute_error: 0.1736\n",
      "Epoch 41/50\n",
      "4600/4600 [==============================] - 14s 3ms/step - loss: 0.0499 - accuracy: 0.3454 - mean_absolute_error: 0.1737 - val_loss: 0.0486 - val_accuracy: 0.3325 - val_mean_absolute_error: 0.1703\n",
      "Epoch 42/50\n",
      "4600/4600 [==============================] - 14s 3ms/step - loss: 0.0502 - accuracy: 0.3404 - mean_absolute_error: 0.1746 - val_loss: 0.0474 - val_accuracy: 0.3225 - val_mean_absolute_error: 0.1681\n",
      "Epoch 43/50\n",
      "4600/4600 [==============================] - 14s 3ms/step - loss: 0.0499 - accuracy: 0.3439 - mean_absolute_error: 0.1736 - val_loss: 0.0486 - val_accuracy: 0.3375 - val_mean_absolute_error: 0.1710\n",
      "Epoch 44/50\n",
      "4600/4600 [==============================] - 14s 3ms/step - loss: 0.0499 - accuracy: 0.3437 - mean_absolute_error: 0.1733 - val_loss: 0.0496 - val_accuracy: 0.3525 - val_mean_absolute_error: 0.1719\n",
      "Epoch 45/50\n",
      "4600/4600 [==============================] - 14s 3ms/step - loss: 0.0498 - accuracy: 0.3437 - mean_absolute_error: 0.1736 - val_loss: 0.0487 - val_accuracy: 0.3500 - val_mean_absolute_error: 0.1705\n",
      "Epoch 46/50\n",
      "4600/4600 [==============================] - 14s 3ms/step - loss: 0.0494 - accuracy: 0.3487 - mean_absolute_error: 0.1725 - val_loss: 0.0492 - val_accuracy: 0.3350 - val_mean_absolute_error: 0.1712\n",
      "Epoch 47/50\n",
      "4600/4600 [==============================] - 13s 3ms/step - loss: 0.0499 - accuracy: 0.3426 - mean_absolute_error: 0.1737 - val_loss: 0.0480 - val_accuracy: 0.3350 - val_mean_absolute_error: 0.1694\n",
      "Epoch 48/50\n",
      "4600/4600 [==============================] - 13s 3ms/step - loss: 0.0498 - accuracy: 0.3465 - mean_absolute_error: 0.1735 - val_loss: 0.0480 - val_accuracy: 0.3400 - val_mean_absolute_error: 0.1698\n",
      "Epoch 49/50\n",
      "4600/4600 [==============================] - 13s 3ms/step - loss: 0.0496 - accuracy: 0.3459 - mean_absolute_error: 0.1730 - val_loss: 0.0486 - val_accuracy: 0.3175 - val_mean_absolute_error: 0.1701\n",
      "Epoch 50/50\n",
      "4600/4600 [==============================] - 13s 3ms/step - loss: 0.0499 - accuracy: 0.3420 - mean_absolute_error: 0.1738 - val_loss: 0.0490 - val_accuracy: 0.3375 - val_mean_absolute_error: 0.1707\n"
     ]
    }
   ],
   "source": [
    "sol = model.fit(X_train, Y_train, epochs = 50, validation_data=(X_val, Y_val), batch_size = 64)"
   ]
  },
  {
   "cell_type": "code",
   "execution_count": 75,
   "metadata": {},
   "outputs": [
    {
     "data": {
      "image/png": "[encoded data removed]",
      "text/plain": [
       "<Figure size 432x288 with 1 Axes>"
      ]
     },
     "metadata": {
      "needs_background": "light"
     },
     "output_type": "display_data"
    }
   ],
   "source": [
    "plt.plot(sol.history[\"loss\"])\n",
    "plt.plot(sol.history[\"val_loss\"])\n",
    "plt.ylabel(\"Loss\")\n",
    "plt.xlabel(\"Epochs\")\n",
    "plt.legend([\"train\", \"validation\"])\n",
    "#plt.xlim([20,40])\n",
    "#plt.ylim([0,0.002])\n",
    "plt.show()"
   ]
  },
  {
   "cell_type": "code",
   "execution_count": 64,
   "metadata": {},
   "outputs": [
    {
     "data": {
      "text/plain": [
       "array([[0.5454471 , 0.36492103, 0.55898297, 0.33304244, 0.46821958,\n",
       "        0.43727952, 0.8968299 , 0.33295596, 0.26420638]], dtype=float32)"
      ]
     },
     "execution_count": 64,
     "metadata": {},
     "output_type": "execute_result"
    }
   ],
   "source": [
    "model.predict(X_val[41].reshape(1,16384))"
   ]
  },
  {
   "cell_type": "code",
   "execution_count": 65,
   "metadata": {},
   "outputs": [
    {
     "data": {
      "text/plain": [
       "array([0.1825    , 0.15142857, 0.77777778, 0.66666667, 0.528     ,\n",
       "       0.20338983, 0.9       , 0.75      , 0.20833333])"
      ]
     },
     "execution_count": 65,
     "metadata": {},
     "output_type": "execute_result"
    }
   ],
   "source": [
    "Y_val[41]"
   ]
  },
  {
   "cell_type": "code",
   "execution_count": 66,
   "metadata": {},
   "outputs": [],
   "source": [
    "model.save(\"ann-v3-5k-1000epochs\")"
   ]
  },
  {
   "cell_type": "code",
   "execution_count": null,
   "metadata": {},
   "outputs": [],
   "source": []
  }
 ],
 "metadata": {
  "kernelspec": {
   "display_name": "Python 3",
   "language": "python",
   "name": "python3"
  },
  "language_info": {
   "codemirror_mode": {
    "name": "ipython",
    "version": 3
   },
   "file_extension": ".py",
   "mimetype": "text/x-python",
   "name": "python",
   "nbconvert_exporter": "python",
   "pygments_lexer": "ipython3",
   "version": "3.7.9"
  }
 },
 "nbformat": 4,
 "nbformat_minor": 4
}
