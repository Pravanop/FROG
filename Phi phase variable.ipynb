{
 "cells": [
  {
   "cell_type": "code",
   "execution_count": 1,
   "metadata": {},
   "outputs": [],
   "source": [
    "import numpy as np\n",
    "import matplotlib.pylab as plt\n",
    "from pylab import *\n",
    "import sys\n",
    "from fft_utils import fft_1d, shift_1d\n"
   ]
  },
  {
   "cell_type": "code",
   "execution_count": 2,
   "metadata": {},
   "outputs": [
    {
     "name": "stdout",
     "output_type": "stream",
     "text": [
      "(128,)\n"
     ]
    }
   ],
   "source": [
    "e0 = np.loadtxt('837nm.dat')        #load the reference pulse, pump @836 nm\n",
    "e0 = e0.T\n",
    "e1 = np.sqrt(e0[1])\n",
    "e1_ph = e0[2]\n",
    "e = np.array(e1)*np.exp(-1j*(np.array(e1_ph)))#reforming E-field\n",
    "\n",
    "original_trace = np.loadtxt('traces/trace8.frg')\t\t#load FROG trace from experiment\n",
    "N = len(e0[0])\t\t#timesteps\n",
    "N_max = np.max(e0[0])\n",
    "N_min = np.min(e0[0])\n",
    "\n",
    "t = e0[0]-N_min\n",
    "T0 = N_max-N_min\t#total time duration\n",
    "dt = T0/(N-1)\n",
    "df = 1.0/T0\t\t#frequency steps\n",
    "TD = N\t\t\t#time delay for FROG-trace generation\n",
    "freq = np.arange(0,1/dt+df,df)*1000\n",
    "print(e.shape)"
   ]
  },
  {
   "cell_type": "code",
   "execution_count": 3,
   "metadata": {},
   "outputs": [],
   "source": [
    "A = 3.0\t\t\t#Amplitude of Raman pulse\n",
    "a = 1.0\t\t\t#intensity dependent factor ##it is not used in this program, ignore it.\n",
    "a2 = 2.50*10**-6\t#second order phase factor\n",
    "a3 = 3.0*10**-9\t\t#third order phase factor\n",
    "\n",
    "f0 = 1.600/1000.0\t#Raman center-wavelength\n",
    "f1 = 0.25/1000.0\t#Red-shifted center-wavelength\n",
    "\n",
    "i0 = 333.0\t\t#unit: fs\n",
    "tau1 = T0/2+i0-400\t#Raman pulse peak time\n",
    "tau2 = tau1-700\t\t#Red-shifted pulse peak time"
   ]
  },
  {
   "cell_type": "code",
   "execution_count": 4,
   "metadata": {},
   "outputs": [],
   "source": [
    "def gaussian_pulse(T,f,A,phase,tau):\n",
    "    w0 = f*2*np.pi\t\t#central angular frequency of pulse\n",
    "    temp = -1j*w0*(t-tau) + 1j*phase\n",
    "    E = A*np.sqrt(np.exp(-4.0*np.log(2.0)/np.log(np.e)*((t-tau)/T)**2))*np.exp(-temp)\n",
    "    return E"
   ]
  },
  {
   "cell_type": "code",
   "execution_count": 5,
   "metadata": {},
   "outputs": [],
   "source": [
    "def xcorr(e0,e,td):\t\t#shift one pulse by time delay of 'td'\n",
    "    E_delay = e*1.0\n",
    "    if td<=0:\n",
    "        E_delay[0:N+td] = e0[-td:]\n",
    "        E_delay[N+td:] = [0]*(-td)\n",
    "        #E_delay=np.roll(e0,td)*([1]*(N+td)+[0]*(-td))\n",
    "    else:\n",
    "        E_delay[0:td] = [0]*(td)\n",
    "        E_delay[td:] = e0[0:N-td]\n",
    "        #E_delay=np.roll(e0,td)*([0]*(td)+[1]*(N-td))\n",
    "    return  e*E_delay"
   ]
  },
  {
   "cell_type": "code",
   "execution_count": 6,
   "metadata": {},
   "outputs": [],
   "source": [
    "def FROG_generator(e,E,TD):\n",
    "    FROG = np.zeros((TD,N), dtype=np.float64)\n",
    "    for td in range(-TD//2,TD//2):\n",
    "        E_corre = xcorr(e,E,td)\n",
    "        temp0 =np.fft.fftshift(np.fft.fft(E_corre))\n",
    "        FROG[(td+TD//2)-1] = np.abs(temp0)**2\n",
    "    return FROG.T"
   ]
  },
  {
   "cell_type": "code",
   "execution_count": 7,
   "metadata": {},
   "outputs": [],
   "source": [
    "def array_difference(A,B):\n",
    "    A = A/np.max(A)\n",
    "    B = B/np.max(B)\n",
    "    return np.sum(np.square(A-B))/np.sum(np.square(A))"
   ]
  },
  {
   "cell_type": "code",
   "execution_count": 8,
   "metadata": {},
   "outputs": [],
   "source": [
    "def FROGs(t1,t2,i0,A,f0,a,a2,a3, f1, tau1, tau2, phi): \n",
    "    phase1 = a2*np.power(t-tau1,2) #+a3*np.power(t-tau1,3)\n",
    "    phase2 = a2*(t-tau2)**2+a3*(t-tau2)**3\n",
    "    E1 = gaussian_pulse(t1,f0,A, phase1,tau1)\n",
    "    E2 = gaussian_pulse(t2,f1,a, phase2 + phi ,tau2)\n",
    "    E = E1+E2\n",
    "    FROG = FROG_generator(e,E,TD)\n",
    "    delta = array_difference(FROG, original_trace)\n",
    "    return FROG, delta"
   ]
  },
  {
   "cell_type": "code",
   "execution_count": 9,
   "metadata": {},
   "outputs": [],
   "source": [
    "def FROG_trace_plot(FROG):\n",
    "    fig,ax = plt.subplots()\n",
    "    plt.imshow(FROG)\n",
    "    plt.title(\"FROG trace\")\n",
    "    plt.grid(True)\n",
    "    plt.show()"
   ]
  },
  {
   "cell_type": "code",
   "execution_count": 10,
   "metadata": {},
   "outputs": [],
   "source": [
    "def grads(t1, t2, i0, A, f0, a, a2, a3, f1, tau, phase):\n",
    "    grad=np.zeros(9)\n",
    "    epsilon=1e-9\n",
    "    grad[0]=(FROGs(t1+epsilon,t2,i0,A,f0,a,a2,a3,f1, tau,tau, phase)[1]-FROGs(t1-epsilon,t2,i0,A,f0,a,a2,a3, f1, tau, tau, phase)[1])/(2*epsilon)\n",
    "    grad[1]=(FROGs(t1,t2+epsilon,i0,A,f0,a,a2,a3,f1, tau,tau, phase)[1]-FROGs(t1,t2-epsilon,i0,A,f0,a,a2,a3, f1, tau, tau, phase)[1])/(2*epsilon)\n",
    "    grad[2]=(FROGs(t1,t2,i0,A+epsilon,f0,a,a2,a3,f1, tau,tau, phase)[1]-FROGs(t1,t2,i0,A-epsilon,f0,a,a2,a3, f1, tau, tau, phase)[1])/(2*epsilon)\n",
    "    grad[3]=(FROGs(t1,t2,i0,A,f0+epsilon,a,a2,a3,f1, tau,tau, phase)[1]-FROGs(t1,t2,i0,A,f0-epsilon,a,a2,a3, f1, tau, tau, phase)[1])/(2*epsilon)\n",
    "    grad[4]=(FROGs(t1,t2,i0,A,f0,a,a2+epsilon,a3,f1, tau,tau, phase)[1]-FROGs(t1,t2,i0,A,f0,a,a2-epsilon,a3, f1, tau, tau, phase)[1])/(2*epsilon)\n",
    "    grad[5]=(FROGs(t1,t2,i0,A,f0,a,a2,a3+epsilon*(10**-6),f1, tau,tau, phase)[1]-FROGs(t1,t2,i0,A,f0,a,a2,a3-epsilon*(10**-6), f1, tau, tau, phase)[1])/(2*epsilon*(10**-6))\n",
    "    grad[6]=(FROGs(t1,t2,i0,A,f0,a,a2,a3, f1 + epsilon, tau, tau, phase)[1]-FROGs(t1,t2,i0,A,f0,a,a2,a3, f1-epsilon, tau, tau, phase)[1])/(2*epsilon)\n",
    "    grad[7]=(FROGs(t1,t2,i0,A,f0,a,a2,a3, f1,tau + epsilon,tau+epsilon, phase)[1]-FROGs(t1,t2,i0,A,f0,a,a2,a3, f1,tau-epsilon,tau-epsilon, phase)[1])/(2*epsilon)\n",
    "    grad[8]=(FROGs(t1+epsilon,t2,i0,A,f0,a,a2,a3,f1, tau, tau, phase + epsilon)[1]-FROGs(t1-epsilon,t2,i0,A,f0,a,a2,a3, f1, tau, tau, phase - epsilon)[1])/(2*epsilon)\n",
    "    return grad"
   ]
  },
  {
   "cell_type": "code",
   "execution_count": 13,
   "metadata": {},
   "outputs": [],
   "source": [
    "def gradient_d(T1, T2, i0, A, f0, a, a2, a3, f1, tau, phase):\n",
    "    learning_rate=np.array([5000,5000, .65, 1e-7, 7e-12, 1e-18, 5e-9, 100000, .5])\n",
    "    epochs=3000\n",
    "    cost=[]\n",
    "    min_delta = 1\n",
    "    for i in range(epochs):\n",
    "        if(i==500):\n",
    "            learning_rate[0]=5000\n",
    "            learning_rate[3] = 1e-13\n",
    "        grad = grads(T1,T2,i0,A,f0,a,a2,a3,f1,tau, phase)\n",
    "        T1 = T1 - learning_rate[0]*grad[0]\n",
    "        T2 = T2 - learning_rate[1]*grad[1]\n",
    "        A = A - learning_rate[2]*grad[2]\n",
    "        f0 = f0 - learning_rate[3]*grad[3]\n",
    "        a2 = a2 - learning_rate[4]*grad[4]\n",
    "        a3 = a3 - learning_rate[5]*grad[5]\n",
    "        f1 = f1 - learning_rate[6]*grad[6]\n",
    "        tau = tau - learning_rate[7]*grad[7]\n",
    "        phase = phase - learning_rate[8]*grad[8]\n",
    "        if(f1 < 0):\n",
    "            f1 = f1 + learning_rate[6]*grad[6]\n",
    "            learning_rate[6] /=10\n",
    "        if(T1 < 0):\n",
    "            T1 = T1 +0.9*learning_rate[0]*grad[0]\n",
    "            learning_rate[0]/=10\n",
    "        if(A<0):\n",
    "            A = A +0.9*learning_rate[2]*grad[2]\n",
    "            learning_rate[2]/=2\n",
    "        (FROG, delta) = FROGs(T1,T2,i0,A,f0,a,a2,a3,f1, tau, tau, phase) \n",
    "        if(delta < min_delta and f1>0 and T1>0 and A>0):\n",
    "            min_delta = delta\n",
    "            min_par = np.array([T1, T2, A, f0, a2, a3, f1, tau, phase])\n",
    "            min_frog = FROG\n",
    "        cost.append(delta)\n",
    "        \n",
    "    \n",
    "    print(\"delta = \", min_delta,\"\\nT1 =\", min_par[0], \"\\nT2 =\" , min_par[1],\"\\nA =\",min_par[2],\"\\na =\", 1, \"\\nf0 =\", min_par[3],\"\\na2 =\", min_par[4],\"\\na3 =\", min_par[5],\"\\nf1 =\",min_par[6],\"\\ntau =\", min_par[7], \"\\phi = \", min_par[8])\n",
    "    plt.plot(list(range(epochs)), cost, '-r') \n",
    "    plt.xlabel('Epochs') \n",
    "    plt.ylabel('Delta')\n",
    "    FROG_trace_plot(min_frog)\n",
    "    return min_par"
   ]
  },
  {
   "cell_type": "code",
   "execution_count": 14,
   "metadata": {},
   "outputs": [
    {
     "name": "stdout",
     "output_type": "stream",
     "text": [
      "delta =  0.05882455452794721 \n",
      "T1 = 660.7100043321526 \n",
      "T2 = 919.8760783502526 \n",
      "A = 1.6634694259385325 \n",
      "a = 1 \n",
      "f0 = 0.0013189563344126686 \n",
      "a2 = -3.639384462545057e-06 \n",
      "a3 = -4.6545067894319044e-10 \n",
      "f1 = 0.0005495357747768816 \n",
      "tau = 2710.6362082184664 \\phi =  3.2759968757166424\n"
     ]
    },
    {
     "data": {
      "image/png": "[encoded data removed]",
      "text/plain": [
       "<Figure size 432x288 with 1 Axes>"
      ]
     },
     "metadata": {
      "needs_background": "light"
     },
     "output_type": "display_data"
    },
    {
     "data": {
      "image/png": "[encoded data removed]",
      "text/plain": [
       "<Figure size 432x288 with 1 Axes>"
      ]
     },
     "metadata": {
      "needs_background": "light"
     },
     "output_type": "display_data"
    },
    {
     "data": {
      "image/png": "[encoded data removed]",
      "text/plain": [
       "<Figure size 432x288 with 1 Axes>"
      ]
     },
     "metadata": {
      "needs_background": "light"
     },
     "output_type": "display_data"
    }
   ],
   "source": [
    "T1 = 500\n",
    "T2 = 500\n",
    "gradient_d(T1, T2, i0, A, f0, a, a2, a3, f1, tau1, math.pi)\n",
    "FROG_trace_plot(original_trace)"
   ]
  },
  {
   "cell_type": "code",
   "execution_count": null,
   "metadata": {},
   "outputs": [],
   "source": [
    "min = 0.1879766965862657"
   ]
  },
  {
   "cell_type": "code",
   "execution_count": null,
   "metadata": {},
   "outputs": [],
   "source": [
    "delta =  0.058856174803190456 \n",
    "T1 = 410.646076434209 \n",
    "T2 = 1032.7593921577948 \n",
    "A = 0.6642422917436082 \n",
    "a = 1 \n",
    "f0 = 0.0007413895863495356 \n",
    "a2 = -3.6654937645816873e-06 \n",
    "a3 = -1.3977803408472281e-09 \n",
    "f1 = 0.00043176484687512304 \n",
    "tau = 3026.546006539186 \n",
    "phi =  3.544329975346816\n",
    "(FROG, delta) = FROGs(T1,T2,i0,A,f0,a,a2,a3,f1, tau, tau, phi - 2*math.pi) \n",
    "FROG_trace_plot(FROG)\n",
    "print(delta)"
   ]
  },
  {
   "cell_type": "code",
   "execution_count": null,
   "metadata": {},
   "outputs": [],
   "source": []
  }
 ],
 "metadata": {
  "kernelspec": {
   "display_name": "Python 3",
   "language": "python",
   "name": "python3"
  },
  "language_info": {
   "codemirror_mode": {
    "name": "ipython",
    "version": 3
   },
   "file_extension": ".py",
   "mimetype": "text/x-python",
   "name": "python",
   "nbconvert_exporter": "python",
   "pygments_lexer": "ipython3",
   "version": "3.7.9"
  }
 },
 "nbformat": 4,
 "nbformat_minor": 4
}
