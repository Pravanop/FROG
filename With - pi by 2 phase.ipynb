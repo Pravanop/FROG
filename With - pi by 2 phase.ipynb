{
 "cells": [
  {
   "cell_type": "code",
   "execution_count": null,
   "metadata": {},
   "outputs": [],
   "source": [
    "import numpy as np\n",
    "import matplotlib.pylab as plt\n",
    "from pylab import *\n",
    "import sys\n",
    "from fft_utils import fft_1d, shift_1d\n"
   ]
  },
  {
   "cell_type": "code",
   "execution_count": null,
   "metadata": {},
   "outputs": [],
   "source": [
    "##########################\n",
    "# define a few constants #\t\t##fft python random phase\n",
    "##########################\n",
    "\n",
    "e0 = np.loadtxt('837nm.dat')\t\t#load the reference pulse, pump @836 nm\n",
    "e0 = e0.T\n",
    "e1 = np.sqrt(e0[1])\n",
    "e1_ph = e0[2]\n",
    "e = np.array(e1)*np.exp(-1j*(np.array(e1_ph)))\t\t#reforming E-field\n",
    "\n",
    "original_trace = np.loadtxt('traces/trace11.frg')\t\t#load FROG trace from experiment\n",
    "N = len(e0[0])\t\t#timesteps\n",
    "N_max = np.max(e0[0])\n",
    "N_min = np.min(e0[0])\n",
    "\n",
    "t = e0[0]-N_min\n",
    "T0 = N_max-N_min\t#total time duration\n",
    "dt = T0/(N-1)\n",
    "df = 1.0/T0\t\t#frequency steps\n",
    "TD = N\t\t\t#time delay for FROG-trace generation\n",
    "freq = np.arange(0,1/dt+df,df)*1000\n",
    "print(T0)"
   ]
  },
  {
   "cell_type": "code",
   "execution_count": null,
   "metadata": {},
   "outputs": [],
   "source": [
    "A = 3.0\t\t\t#Amplitude of Raman pulse\n",
    "a = 1.0\t\t\t#intensity dependent factor ##it is not used in this program, ignore it.\n",
    "a2 = 2.50*10**-6\t#second order phase factor\n",
    "a3 = 3.0*10**-9\t\t#third order phase factor\n",
    "\n",
    "f0 = 1.600/1000.0\t#Raman center-wavelength\n",
    "f1 = 0.25/1000.0\t#Red-shifted center-wavelength\n",
    "\n",
    "i0 = 333.0\t\t#unit: fs\n",
    "tau1 = T0/2+i0-400\t#Raman pulse peak time\n",
    "tau2 = tau1-700\t\t#Red-shifted pulse peak time"
   ]
  },
  {
   "cell_type": "code",
   "execution_count": null,
   "metadata": {},
   "outputs": [],
   "source": [
    "def gaussian_pulse(T,f,A,phase,tau):\n",
    "    w0 = f*2*np.pi\t\t#central angular frequency of pulse\n",
    "    temp = -1j*w0*(t-tau) + 1j*phase\n",
    "    E = A*np.sqrt(np.exp(-4.0*np.log(2.0)/np.log(np.e)*((t-tau)/T)**2))*np.exp(-temp)\n",
    "    return E"
   ]
  },
  {
   "cell_type": "code",
   "execution_count": null,
   "metadata": {},
   "outputs": [],
   "source": [
    "\n",
    "def xcorr(e0,e,td):\t\t#shift one pulse by time delay of 'td'\n",
    "    E_delay = e*1.0\n",
    "    if td<=0:\n",
    "        E_delay[0:N+td] = e0[-td:]\n",
    "        E_delay[N+td:] = [0]*(-td)\n",
    "        #E_delay=np.roll(e0,td)*([1]*(N+td)+[0]*(-td))\n",
    "    else:\n",
    "        E_delay[0:td] = [0]*(td)\n",
    "        E_delay[td:] = e0[0:N-td]\n",
    "        #E_delay=np.roll(e0,td)*([0]*(td)+[1]*(N-td))\n",
    "    return  e*E_delay"
   ]
  },
  {
   "cell_type": "code",
   "execution_count": null,
   "metadata": {},
   "outputs": [],
   "source": [
    "def FROG_generator(e,E,TD):\n",
    "    FROG = np.zeros((TD,N), dtype=np.float64)\n",
    "    for td in range(-TD//2,TD//2):\n",
    "        E_corre = xcorr(e,E,td)\n",
    "       \n",
    "        temp0 =np.fft.fftshift(np.fft.fft(E_corre))\n",
    "        FROG[(td+TD//2)-1] = np.abs(temp0)**2\n",
    "    return FROG.T"
   ]
  },
  {
   "cell_type": "code",
   "execution_count": null,
   "metadata": {},
   "outputs": [],
   "source": [
    "def array_difference(A,B):\n",
    "    A = A/np.max(A)\n",
    "    B = B/np.max(B)\n",
    "    return np.sum(np.square(A-B))/np.sum(np.square(A))"
   ]
  },
  {
   "cell_type": "code",
   "execution_count": null,
   "metadata": {},
   "outputs": [],
   "source": [
    "def FROGs(t1,t2,i0,A,f0,a,a2,a3, f1, tau1, tau2): \n",
    "    phase1 = a2*np.power(t-tau1,2)+a3*np.power(t-tau1,3)\n",
    "    phase2 = a2*(t-tau2)**2+a3*(t-tau2)**3\n",
    "    E1 = gaussian_pulse(t1,f0,A,phase1,tau1)\n",
    "    E2 = gaussian_pulse(t2,f1,a,phase2-0.5* math.pi,tau2)\n",
    "    E = E1+E2\n",
    "    FROG = FROG_generator(e,E,TD)\n",
    "    delta = array_difference(FROG, original_trace)\n",
    "    return FROG, delta"
   ]
  },
  {
   "cell_type": "code",
   "execution_count": null,
   "metadata": {},
   "outputs": [],
   "source": [
    "def FROG_trace_plot(FROG):\n",
    "    fig,ax = plt.subplots()\n",
    "    plt.imshow(FROG)\n",
    "    plt.title(\"FROG trace\")\n",
    "    plt.grid(True)\n",
    "    plt.show()"
   ]
  },
  {
   "cell_type": "code",
   "execution_count": null,
   "metadata": {},
   "outputs": [],
   "source": [
    "def grads(T,i0, A, f0,a, a2, a3, f1, tau1, tau2):\n",
    "    grad=np.zeros(8)\n",
    "    epsilon=1e-9\n",
    "    grad[0]=(FROGs(T+epsilon,T+epsilon,i0,A,f0,a,a2,a3,f1, tau1,tau2)[1]-FROGs(T-epsilon,T-epsilon,i0,A,f0,a,a2,a3, f1, tau1,tau2)[1])/(2*epsilon)\n",
    "    grad[1]=(FROGs(T,T,i0,A+epsilon,f0,a,a2,a3,f1, tau1,tau2)[1]-FROGs(T,T,i0,A-epsilon,f0,a,a2,a3, f1, tau1,tau2)[1])/(2*epsilon)\n",
    "    grad[2]=(FROGs(T,T,i0,A,f0+epsilon,a,a2,a3,f1, tau1,tau2)[1]-FROGs(T,T,i0,A,f0-epsilon,a,a2,a3, f1, tau1,tau2)[1])/(2*epsilon)\n",
    "    grad[3]=(FROGs(T,T,i0,A,f0,a,a2+epsilon,a3,f1, tau1,tau2)[1]-FROGs(T,T,i0,A,f0,a,a2-epsilon,a3, f1, tau1,tau2)[1])/(2*epsilon)\n",
    "    grad[4]=(FROGs(T,T,i0,A,f0,a,a2,a3+epsilon*(10**-6),f1, tau1,tau2)[1]-FROGs(T,T,i0,A,f0,a,a2,a3-epsilon*(10**-6), f1, tau1,tau2)[1])/(2*epsilon*(10**-6))\n",
    "    grad[5]=(FROGs(T,T,i0,A,f0,a,a2,a3, f1 + epsilon, tau1,tau2)[1]-FROGs(T,T,i0,A,f0,a,a2,a3, f1-epsilon, tau1,tau2)[1])/(2*epsilon)\n",
    "    grad[6]=(FROGs(T,T,i0,A,f0,a,a2,a3, f1,tau1 + epsilon,tau2)[1]-FROGs(T,T,i0,A,f0,a,a2,a3, f1,tau1-epsilon,tau2)[1])/(2*epsilon)\n",
    "    grad[7]=(FROGs(T,T,i0,A,f0,a,a2,a3, f1,tau1,epsilon+tau2)[1]-FROGs(T,T,i0,A,f0,a,a2,a3, f1,tau1, tau2-epsilon)[1])/(2*epsilon)\n",
    "    return grad"
   ]
  },
  {
   "cell_type": "code",
   "execution_count": null,
   "metadata": {},
   "outputs": [],
   "source": [
    "def gradient_d(T, i0, A, f0, a, a2, a3, f1, tau1, tau2):\n",
    "    learning_rate=np.array([10000,.5, 1e-7, 5e-13, 1e-16, 1e-9, 50000,50000])\n",
    "    epochs=2000\n",
    "    cost=[]\n",
    "    min_delta = 1\n",
    "    for i in range(epochs):\n",
    "        if(i==200):\n",
    "            learning_rate[0]=5000\n",
    "            learning_rate[3] = 1e-13\n",
    "            learning_rate[0] = learning_rate[0]*10\n",
    "        grad = grads(T,i0,A,f0,a,a2,a3 ,f1,tau1, tau2)\n",
    "        T = T - learning_rate[0]*grad[0]\n",
    "        A = A - learning_rate[1]*grad[1]\n",
    "        f0 = f0 - learning_rate[2]*grad[2]\n",
    "        a2 = a2 - learning_rate[3]*grad[3]\n",
    "        a3 = a3 - learning_rate[4]*grad[4]\n",
    "        f1 = f1 - learning_rate[5]*grad[5]\n",
    "        tau1 = tau1 - learning_rate[6]*grad[6]\n",
    "        tau2 = tau2 - learning_rate[7]*grad[7]\n",
    "        if(f1 < 0):\n",
    "            f1 = f1 + 0.9*learning_rate[5]*grad[5]\n",
    "            learning_rate[5] /=10\n",
    "        (FROG, delta) = FROGs(T,T,i0,A,f0,a,a2,a3,f1, tau1, tau2) \n",
    "        print(i, delta, T, f1)\n",
    "        if(delta < min_delta and f1>0 and T>0 and A>0):\n",
    "            min_delta = delta\n",
    "            min_par = np.array([T, A, f0, a2, a3, f1, tau1, tau2])\n",
    "            min_frog = FROG\n",
    "        cost.append(delta)\n",
    "    \n",
    "    #print(\"delta = \", min_delta,\"\\nT =\", min_par[0], \"\\nA =\" , min_par[1],\"\\nf0 =\",min_par[2],\"\\na =\", 1, \"\\na2 =\", min_par[3],\"\\na3 =\", min_par[4],\"\\nf1 =\", min_par[5],\"\\ntau1 =\",min_par[6],\"\\ntau2 =\", min_par[7])\n",
    "    #plt.plot(list(range(epochs)), cost, '-r') \n",
    "    #plt.xlabel('Epochs') \n",
    "    #plt.ylabel('Delta')\n",
    "    FROG_trace_plot(min_frog)\n",
    "    return min_par\n",
    "    "
   ]
  },
  {
   "cell_type": "code",
   "execution_count": null,
   "metadata": {
    "scrolled": true
   },
   "outputs": [],
   "source": [
    "T = 500\n",
    "A = 3.0\t\t\t#Amplitude of Raman pulse\n",
    "a = 1.0\t\t\t#intensity dependent factor ##it is not used in this program, ignore it.\n",
    "a2 = 2.50*10**-6\t#second order phase factor\n",
    "a3 = 3.0*10**-10\t\t#third order phase factor\n",
    "\n",
    "f0 = 1.600/1000.0\t#Raman center-wavelength\n",
    "f1 = 0.25/1000.0\t#Red-shifted center-wavelength\n",
    "\n",
    "i0 = 333.0\t\t#unit: fs\n",
    "tau1 = T0/2+i0-400\t#Raman pulse peak time\n",
    "tau2 = tau1-700\t\t#Red-shifted pulse peak time\n",
    "min_t = 500\n",
    "min_i = 0\n",
    "min_j = 0\n",
    "min_frog = 2\n",
    "for i in range (500, 1500, 25):\n",
    "    x = FROGs(T,T,i0,A,f0,a,a2,a3,f1, tau1, tau2)[1]\n",
    "    if(x < min_frog):\n",
    "        x = min_frog\n",
    "        min_t = T\n",
    "for i in range(0,3200, 50):\n",
    "    for j in range(0,2500,50):\n",
    "        x = FROGs(T,T,i0,A,f0,a,a2,a3,f1, i, j)[1]\n",
    "        if(x < min_frog):\n",
    "            x = min_frog\n",
    "            min_i = i\n",
    "            min_j = j\n",
    "\n",
    "\n",
    "print(min_t, min_i, min_j)\n",
    "gradient_d(min_t, i0, A, f0, a, a2, a3, f1, min_i, min_j)"
   ]
  },
  {
   "cell_type": "code",
   "execution_count": 207,
   "metadata": {},
   "outputs": [
    {
     "ename": "SyntaxError",
     "evalue": "invalid syntax (<ipython-input-207-71014316c345>, line 1)",
     "output_type": "error",
     "traceback": [
      "\u001b[1;36m  File \u001b[1;32m\"<ipython-input-207-71014316c345>\"\u001b[1;36m, line \u001b[1;32m1\u001b[0m\n\u001b[1;33m    MINUS PI/2\u001b[0m\n\u001b[1;37m           ^\u001b[0m\n\u001b[1;31mSyntaxError\u001b[0m\u001b[1;31m:\u001b[0m invalid syntax\n"
     ]
    }
   ],
   "source": []
  },
  {
   "cell_type": "code",
   "execution_count": null,
   "metadata": {},
   "outputs": [],
   "source": []
  },
  {
   "cell_type": "code",
   "execution_count": null,
   "metadata": {},
   "outputs": [],
   "source": []
  },
  {
   "cell_type": "code",
   "execution_count": null,
   "metadata": {},
   "outputs": [],
   "source": []
  },
  {
   "cell_type": "code",
   "execution_count": null,
   "metadata": {},
   "outputs": [],
   "source": []
  },
  {
   "cell_type": "code",
   "execution_count": null,
   "metadata": {},
   "outputs": [],
   "source": []
  }
 ],
 "metadata": {
  "kernelspec": {
   "display_name": "Python 3",
   "language": "python",
   "name": "python3"
  },
  "language_info": {
   "codemirror_mode": {
    "name": "ipython",
    "version": 3
   },
   "file_extension": ".py",
   "mimetype": "text/x-python",
   "name": "python",
   "nbconvert_exporter": "python",
   "pygments_lexer": "ipython3",
   "version": "3.7.9"
  }
 },
 "nbformat": 4,
 "nbformat_minor": 4
}
