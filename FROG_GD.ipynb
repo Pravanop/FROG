{
 "cells": [
  {
   "cell_type": "code",
   "execution_count": 3,
   "metadata": {},
   "outputs": [],
   "source": [
    "import numpy as np\n",
    "import matplotlib.pylab as plt\n",
    "from pylab import *\n",
    "import sys\n",
    "from fft_utils import fft_1d, shift_1d\n"
   ]
  },
  {
   "cell_type": "code",
   "execution_count": 4,
   "metadata": {},
   "outputs": [],
   "source": [
    "##########################\n",
    "# define a few constants #\t\t##fft python random phase\n",
    "##########################\n",
    "\n",
    "e0 = np.loadtxt('837nm.dat')\t\t#load the reference pulse, pump @836 nm\n",
    "e0 = e0.T\n",
    "e1 = np.sqrt(e0[1])\n",
    "e1_ph = e0[2]\n",
    "e = np.array(e1)*np.exp(-1j*(np.array(e1_ph)))\t\t#reforming E-field\n",
    "\n",
    "original_trace = np.loadtxt('traces/trace11.frg')\t\t#load FROG trace from experiment\n",
    "N = len(e0[0])\t\t#timesteps\n",
    "N_max = np.max(e0[0])\n",
    "N_min = np.min(e0[0])\n",
    "\n",
    "t = e0[0]-N_min\n",
    "T0 = N_max-N_min\t#total time duration\n",
    "dt = T0/(N-1)\n",
    "df = 1.0/T0\t\t#frequency steps\n",
    "TD = N\t\t\t#time delay for FROG-trace generation\n",
    "freq = np.arange(0,1/dt+df,df)*1000\n"
   ]
  },
  {
   "cell_type": "code",
   "execution_count": 5,
   "metadata": {},
   "outputs": [],
   "source": [
    "A = 3.0\t\t\t#Amplitude of Raman pulse\n",
    "a = 1.0\t\t\t#intensity dependent factor ##it is not used in this program, ignore it.\n",
    "a2 = 2.50*10**-6\t#second order phase factor\n",
    "a3 = 3.0*10**-9\t\t#third order phase factor\n",
    "\n",
    "f0 = 1.600/1000.0\t#Raman center-wavelength\n",
    "f1 = 0.25/1000.0\t#Red-shifted center-wavelength\n",
    "\n",
    "i0 = 333.0\t\t#unit: fs\n",
    "tau1 = T0/2+i0-400\t#Raman pulse peak time\n",
    "tau2 = tau1-700\t\t#Red-shifted pulse peak time"
   ]
  },
  {
   "cell_type": "code",
   "execution_count": 6,
   "metadata": {},
   "outputs": [],
   "source": [
    "## for generation of Gaussian pulses\n",
    "\n",
    "def gaussian_pulse(T,f,A,phase,tau):\n",
    "    w0 = f*2*np.pi\t\t#central angular frequency of pulse\n",
    "    temp = -1j*w0*(t-tau) + 1j*phase\n",
    "    E = A*np.sqrt(np.exp(-4.0*np.log(2.0)/np.log(np.e)*((t-tau)/T)**2))*np.exp(-temp)\n",
    "    return E"
   ]
  },
  {
   "cell_type": "code",
   "execution_count": 7,
   "metadata": {},
   "outputs": [],
   "source": [
    "\n",
    "def xcorr(e0,e,td):\t\t#shift one pulse by time delay of 'td'\n",
    "    E_delay = e*1.0\n",
    "    if td<=0:\n",
    "        E_delay[0:N+td] = e0[-td:]\n",
    "        E_delay[N+td:] = [0]*(-td)\n",
    "        #E_delay=np.roll(e0,td)*([1]*(N+td)+[0]*(-td))\n",
    "    else:\n",
    "        E_delay[0:td] = [0]*(td)\n",
    "        E_delay[td:] = e0[0:N-td]\n",
    "        #E_delay=np.roll(e0,td)*([0]*(td)+[1]*(N-td))\n",
    "    return  e*E_delay"
   ]
  },
  {
   "cell_type": "code",
   "execution_count": 8,
   "metadata": {},
   "outputs": [],
   "source": [
    "def FROG_generator(e,E,TD):\n",
    "    FROG = np.zeros((TD,N), dtype=np.float64)\n",
    "    for td in range(-TD//2,TD//2):\n",
    "        E_corre = xcorr(e,E,td)\n",
    "       \n",
    "        temp0 =np.fft.fftshift(np.fft.fft(E_corre))\n",
    "        FROG[(td+TD//2)-1] = np.abs(temp0)**2\n",
    "    return FROG.T"
   ]
  },
  {
   "cell_type": "code",
   "execution_count": 9,
   "metadata": {},
   "outputs": [],
   "source": [
    "def array_difference(A,B):\n",
    "\tA = A/np.max(A)\n",
    "\tB = B/np.max(B)\n",
    "\treturn np.sum(np.square(A-B))/np.sum(np.square(A))"
   ]
  },
  {
   "cell_type": "code",
   "execution_count": 10,
   "metadata": {},
   "outputs": [],
   "source": [
    "def FROGs(t1,t2,i0,A,f0,a,a2,a3, f1, tau1, tau2): \n",
    "    phase1 = a2*np.power(t-tau1,2)+a3*np.power(t-tau1,3)\n",
    "    phase2 = a2*(t-tau2)**2+a3*(t-tau2)**3\n",
    "    E1 = gaussian_pulse(t1,f0,A,phase1,tau1)\n",
    "    E2 = gaussian_pulse(t2,f1,a,phase2,tau2)\n",
    "    E = E1+E2\n",
    "    FROG = FROG_generator(e,E,TD)\n",
    "    delta = array_difference(FROG, original_trace)\n",
    "    return FROG, delta"
   ]
  },
  {
   "cell_type": "code",
   "execution_count": 11,
   "metadata": {},
   "outputs": [],
   "source": [
    "def FROG_trace_plot(FROG):\n",
    "    fig,ax = plt.subplots()\n",
    "    plt.imshow(FROG)\n",
    "    plt.title(\"FROG trace\")\n",
    "    plt.grid(True)\n",
    "    plt.show()"
   ]
  },
  {
   "cell_type": "code",
   "execution_count": 28,
   "metadata": {},
   "outputs": [],
   "source": [
    "def grads(t1, t2, i0, A, f0, a, a2, a3, f1, tau1, tau2):\n",
    "    grad=np.zeros(11)\n",
    "    epsilon=1e-9\n",
    "    grad[0]=(FROGs(t1+epsilon,t2,i0,A,f0,a,a2,a3,f1, tau1,tau2)[1]-FROGs(t1-epsilon,t2,i0,A,f0,a,a2,a3, f1, tau1,tau2)[1])/(2*epsilon)\n",
    "    grad[1]=(FROGs(t1,t2+epsilon,i0,A,f0,a,a2,a3,f1, tau1,tau2)[1]-FROGs(t1,t2-epsilon,i0,A,f0,a,a2,a3, f1, tau1,tau2)[1])/(2*epsilon)\n",
    "    grad[2]=(FROGs(t1,t2,i0+epsilon,A,f0,a,a2,a3,f1, tau1,tau2)[1]-FROGs(t1,t2,i0-epsilon,A,f0,a,a2,a3, f1, tau1,tau2)[1])/(2*epsilon)\n",
    "    grad[3]=(FROGs(t1,t2,i0,A+epsilon,f0,a,a2,a3,f1, tau1,tau2)[1]-FROGs(t1,t2,i0,A-epsilon,f0,a,a2,a3, f1, tau1,tau2)[1])/(2*epsilon)\n",
    "    grad[4]=(FROGs(t1,t2,i0,A,f0+epsilon,a,a2,a3,f1, tau1,tau2)[1]-FROGs(t1,t2,i0,A,f0-epsilon,a,a2,a3, f1, tau1,tau2)[1])/(2*epsilon)\n",
    "    grad[5]=(FROGs(t1,t2,i0,A,f0,a+epsilon,a2,a3,f1, tau1,tau2)[1]-FROGs(t1,t2,i0,A,f0,a-epsilon,a2,a3, f1, tau1,tau2)[1])/(2*epsilon)\n",
    "    grad[6]=(FROGs(t1,t2,i0,A,f0,a,a2+epsilon,a3,f1, tau1,tau2)[1]-FROGs(t1,t2,i0,A,f0,a,a2-epsilon,a3, f1, tau1,tau2)[1])/(2*epsilon)\n",
    "    grad[7]=(FROGs(t1,t2,i0,A,f0,a,a2,a3+epsilon*(10**-6),f1, tau1,tau2)[1]-FROGs(t1,t2,i0,A,f0,a,a2,a3-epsilon*(10**-6), f1, tau1,tau2)[1])/(2*epsilon*(10**-6))\n",
    "    grad[8]=(FROGs(t1,t2,i0,A,f0,a,a2,a3, f1 + epsilon, tau1,tau2)[1]-FROGs(t1,t2,i0,A,f0,a,a2,a3, f1-epsilon, tau1,tau2)[1])/(2*epsilon)\n",
    "    grad[9]=(FROGs(t1,t2,i0,A,f0,a,a2,a3, f1,tau1 + epsilon,tau2)[1]-FROGs(t1,t2,i0,A,f0,a,a2,a3, f1,tau1-epsilon,tau2)[1])/(2*epsilon)\n",
    "    grad[10]=(FROGs(t1,t2,i0,A,f0,a,a2,a3, f1,tau1,epsilon+tau2)[1]-FROGs(t1,t2,i0,A,f0,a,a2,a3, f1,tau1, tau2-epsilon)[1])/(2*epsilon)\n",
    "    return grad"
   ]
  },
  {
   "cell_type": "code",
   "execution_count": 29,
   "metadata": {},
   "outputs": [],
   "source": [
    "def gradient_d(t1, t2, i0, A, f0, a, a2, a3, f1, tau1, tau2):\n",
    "    learning_rate=np.array([10000, 10000, 0, .5, 1e-8, 0.05, 0, 0, 1e-8, 50000,50000])\n",
    "    epochs=500\n",
    "    cost=[]\n",
    "    for i in range(epochs):\n",
    "        grad = grads(t1,t2,i0,A,f0,a,a2,a3 ,f1,tau1, tau2)\n",
    "        t1 = t1 - learning_rate[0]*grad[0]\n",
    "        t2 = t2 - learning_rate[1]*grad[1]\n",
    "        #i0 = i0 - learning_rate[2]*grad[2]\n",
    "        A = A - learning_rate[3]*grad[3]\n",
    "        f0 = f0 - learning_rate[4]*grad[4]\n",
    "        a = a - learning_rate[5]*grad[5]\n",
    "        a2 = a2 - learning_rate[6]*grad[6]\n",
    "        a3 = a3 - learning_rate[7]*grad[7]\n",
    "        f1 = f1 - learning_rate[8]*grad[8]\n",
    "        tau1 = tau1 - learning_rate[9]*grad[9]\n",
    "        tau2 = tau2 - learning_rate[10]*grad[10]\n",
    "        (FROG, delta) = FROGs(t1,t2,i0,A,f0,a,a2,a3,f1, tau1, tau2) \n",
    "        print(i, delta)\n",
    "        #print(delta, \" t1 = \", grad[0], \" t2 = \", grad[1], \" A = \", grad[3], \" f0 = \", grad[4],\" a = \", grad[5], \" a2 = \", grad[6], \" a3 = \", grad[7], \" f1 = \", grad[8])\n",
    "        cost.append(delta)\n",
    "        \n",
    "    plt.plot(list(range(epochs)), cost, '-r') \n",
    "    plt.xlabel('Epochs') \n",
    "    plt.ylabel('Delta')\n",
    "    print(\"T1=\", t1,\"\\nT2 =\",  t2,\"\\nA =\", A,\"\\n f0 =\",f0,\"\\n a =\", a, \"\\n a2 =\", a2,\"\\n a3 =\", a3,\"\\n f1 =\", f1,\"\\ntau1 =\",tau1,\"\\ntau2 =\", tau2)\n",
    "    FROG_trace_plot(FROG)"
   ]
  },
  {
   "cell_type": "code",
   "execution_count": 36,
   "metadata": {
    "scrolled": false
   },
   "outputs": [],
   "source": [
    "t1 = 500\n",
    "t2 = 500\n",
    "gradient_d(t1, t2, i0, A, f0, a, a2, a3, f1, tau1, tau2)"
   ]
  },
  {
   "cell_type": "code",
   "execution_count": null,
   "metadata": {},
   "outputs": [],
   "source": [
    "FROG_trace_plot(original_trace)"
   ]
  },
  {
   "cell_type": "code",
   "execution_count": null,
   "metadata": {},
   "outputs": [],
   "source": []
  }
 ],
 "metadata": {
  "kernelspec": {
   "display_name": "Python 3",
   "language": "python",
   "name": "python3"
  },
  "language_info": {
   "codemirror_mode": {
    "name": "ipython",
    "version": 3
   },
   "file_extension": ".py",
   "mimetype": "text/x-python",
   "name": "python",
   "nbconvert_exporter": "python",
   "pygments_lexer": "ipython3",
   "version": "3.7.9"
  }
 },
 "nbformat": 4,
 "nbformat_minor": 4
}
